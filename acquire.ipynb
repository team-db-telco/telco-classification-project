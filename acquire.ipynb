{
 "cells": [
  {
   "cell_type": "code",
   "execution_count": 1,
   "metadata": {},
   "outputs": [],
   "source": [
    "import pandas as pd\n",
    "import numpy as np\n",
    "\n",
    "from env import host, user, password"
   ]
  },
  {
   "cell_type": "code",
   "execution_count": null,
   "metadata": {},
   "outputs": [],
   "source": []
  },
  {
   "cell_type": "code",
   "execution_count": 2,
   "metadata": {},
   "outputs": [],
   "source": [
    "def get_db_url(db_name):\n",
    "    return f\"mysql+pymysql://{user}:{password}@{host}/{db_name}\""
   ]
  },
  {
   "cell_type": "code",
   "execution_count": 3,
   "metadata": {},
   "outputs": [],
   "source": [
    "def get_telco_data():\n",
    "    '''\n",
    "    Returns a telco dataframe that includes all tables\n",
    "    joined on customers\n",
    "    '''\n",
    "    query = \"\"\"\n",
    "    SELECT *\n",
    "    FROM customers\n",
    "    JOIN payment_types using (payment_type_id)\n",
    "    JOIN internet_service_types using (internet_service_type_id)\n",
    "    JOIN contract_types using (contract_type_id)\n",
    "    \"\"\"\n",
    "    df = pd.read_sql(query, get_db_url(\"telco_churn\"))\n",
    "    return df"
   ]
  }
 ],
 "metadata": {
  "kernelspec": {
   "display_name": "Python 3",
   "language": "python",
   "name": "python3"
  },
  "language_info": {
   "codemirror_mode": {
    "name": "ipython",
    "version": 3
   },
   "file_extension": ".py",
   "mimetype": "text/x-python",
   "name": "python",
   "nbconvert_exporter": "python",
   "pygments_lexer": "ipython3",
   "version": "3.7.6"
  }
 },
 "nbformat": 4,
 "nbformat_minor": 4
}
