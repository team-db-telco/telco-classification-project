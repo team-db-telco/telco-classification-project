{
 "cells": [
  {
   "cell_type": "code",
   "execution_count": 1,
   "metadata": {},
   "outputs": [],
   "source": [
    "import numpy as np\n",
    "import pandas as pd\n",
    "pd.options.display.float_format = '{:.3f}'.format\n",
    "import warnings\n",
    "warnings.filterwarnings(\"ignore\")\n",
    "\n",
    "import matplotlib.pyplot as plt\n",
    "\n",
    "from sklearn.linear_model import LogisticRegression\n",
    "from sklearn.tree import DecisionTreeClassifier\n",
    "from sklearn.ensemble import RandomForestClassifier\n",
    "from sklearn.neighbors import KNeighborsClassifier\n",
    "\n",
    "from sklearn.metrics import classification_report\n",
    "from sklearn.metrics import confusion_matrix\n",
    "\n",
    "df = pd.read_csv('train.csv')\n",
    "valid = pd.read_csv('valid.csv')"
   ]
  },
  {
   "cell_type": "code",
   "execution_count": 2,
   "metadata": {},
   "outputs": [],
   "source": [
    "# The first set of models will be made using all the variables, unscaled.\n",
    "# The second st will replace unscaled with scaled variables.\n",
    "# After that, we'll reduce the number of variables to only those which were important\n",
    "X_train = df.drop(columns=['churn', 'Unnamed: 0', 'customer_id', 'tenure_nml', 'monthly_charges_nml', 'total_charges_nml'])\n",
    "X_train_scaled = df.drop(columns=['churn', 'Unnamed: 0', 'customer_id', 'tenure', 'tenure_months', 'monthly_charges', 'total_charges'])\n",
    "X_valid = valid.drop(columns=['churn', 'Unnamed: 0', 'customer_id', 'tenure_nml', 'monthly_charges_nml', 'total_charges_nml'])\n",
    "X_valid_scaled = valid.drop(columns=['churn', 'Unnamed: 0', 'customer_id', 'tenure', 'tenure_months', 'monthly_charges', 'total_charges'])\n",
    "\n",
    "y_train = df[['churn']]\n",
    "y_valid = valid[['churn']]"
   ]
  },
  {
   "cell_type": "markdown",
   "metadata": {},
   "source": [
    "# Logistic Regression Model"
   ]
  },
  {
   "cell_type": "code",
   "execution_count": 3,
   "metadata": {},
   "outputs": [],
   "source": [
    "logit = LogisticRegression().fit(X_train, y_train)\n",
    "y_pred_LR = logit.predict(X_train)"
   ]
  },
  {
   "cell_type": "code",
   "execution_count": 4,
   "metadata": {},
   "outputs": [
    {
     "data": {
      "text/html": [
       "<div>\n",
       "<style scoped>\n",
       "    .dataframe tbody tr th:only-of-type {\n",
       "        vertical-align: middle;\n",
       "    }\n",
       "\n",
       "    .dataframe tbody tr th {\n",
       "        vertical-align: top;\n",
       "    }\n",
       "\n",
       "    .dataframe thead tr th {\n",
       "        text-align: left;\n",
       "    }\n",
       "\n",
       "    .dataframe thead tr:last-of-type th {\n",
       "        text-align: right;\n",
       "    }\n",
       "</style>\n",
       "<table border=\"1\" class=\"dataframe\">\n",
       "  <thead>\n",
       "    <tr>\n",
       "      <th></th>\n",
       "      <th>loyal predicted</th>\n",
       "      <th>churn predicted</th>\n",
       "    </tr>\n",
       "    <tr>\n",
       "      <th>actual</th>\n",
       "      <th></th>\n",
       "      <th></th>\n",
       "    </tr>\n",
       "  </thead>\n",
       "  <tbody>\n",
       "    <tr>\n",
       "      <th>loyal</th>\n",
       "      <td>910</td>\n",
       "      <td>107</td>\n",
       "    </tr>\n",
       "    <tr>\n",
       "      <th>churn</th>\n",
       "      <td>175</td>\n",
       "      <td>217</td>\n",
       "    </tr>\n",
       "  </tbody>\n",
       "</table>\n",
       "</div>"
      ],
      "text/plain": [
       "       loyal predicted churn predicted\n",
       "actual                                \n",
       "loyal              910             107\n",
       "churn              175             217"
      ]
     },
     "execution_count": 4,
     "metadata": {},
     "output_type": "execute_result"
    }
   ],
   "source": [
    "labels = ['loyal', 'churn']\n",
    "predicted_labels = [name + \" predicted\" for name in labels ]\n",
    "conf = pd.DataFrame(confusion_matrix(y_train, y_pred_LR), index=labels, columns=[predicted_labels])\n",
    "conf.index.name = \"actual\"\n",
    "conf"
   ]
  },
  {
   "cell_type": "code",
   "execution_count": 5,
   "metadata": {},
   "outputs": [
    {
     "name": "stdout",
     "output_type": "stream",
     "text": [
      "              precision    recall  f1-score   support\n",
      "\n",
      "          No       0.84      0.89      0.87      1017\n",
      "         Yes       0.67      0.55      0.61       392\n",
      "\n",
      "    accuracy                           0.80      1409\n",
      "   macro avg       0.75      0.72      0.74      1409\n",
      "weighted avg       0.79      0.80      0.79      1409\n",
      "\n"
     ]
    }
   ],
   "source": [
    "print(classification_report(y_train, y_pred_LR))"
   ]
  },
  {
   "cell_type": "code",
   "execution_count": 6,
   "metadata": {},
   "outputs": [
    {
     "name": "stdout",
     "output_type": "stream",
     "text": [
      "              precision    recall  f1-score   support\n",
      "\n",
      "          No       0.85      0.88      0.86       837\n",
      "         Yes       0.61      0.56      0.59       290\n",
      "\n",
      "    accuracy                           0.80      1127\n",
      "   macro avg       0.73      0.72      0.72      1127\n",
      "weighted avg       0.79      0.80      0.79      1127\n",
      "\n"
     ]
    }
   ],
   "source": [
    "# Is it overfit?  --> Nope\n",
    "y_pred_LRv = logit.predict(X_valid)\n",
    "\n",
    "print(classification_report(y_valid, y_pred_LRv))"
   ]
  },
  {
   "cell_type": "markdown",
   "metadata": {},
   "source": [
    "## Logistic Regression Scaled"
   ]
  },
  {
   "cell_type": "code",
   "execution_count": 7,
   "metadata": {},
   "outputs": [],
   "source": [
    "logit_s = LogisticRegression().fit(X_train_scaled, y_train)\n",
    "y_pred_LRs = logit_s.predict(X_train_scaled)"
   ]
  },
  {
   "cell_type": "code",
   "execution_count": 8,
   "metadata": {},
   "outputs": [
    {
     "data": {
      "text/html": [
       "<div>\n",
       "<style scoped>\n",
       "    .dataframe tbody tr th:only-of-type {\n",
       "        vertical-align: middle;\n",
       "    }\n",
       "\n",
       "    .dataframe tbody tr th {\n",
       "        vertical-align: top;\n",
       "    }\n",
       "\n",
       "    .dataframe thead tr th {\n",
       "        text-align: left;\n",
       "    }\n",
       "\n",
       "    .dataframe thead tr:last-of-type th {\n",
       "        text-align: right;\n",
       "    }\n",
       "</style>\n",
       "<table border=\"1\" class=\"dataframe\">\n",
       "  <thead>\n",
       "    <tr>\n",
       "      <th></th>\n",
       "      <th>loyal predicted</th>\n",
       "      <th>churn predicted</th>\n",
       "    </tr>\n",
       "    <tr>\n",
       "      <th>actual</th>\n",
       "      <th></th>\n",
       "      <th></th>\n",
       "    </tr>\n",
       "  </thead>\n",
       "  <tbody>\n",
       "    <tr>\n",
       "      <th>loyal</th>\n",
       "      <td>911</td>\n",
       "      <td>106</td>\n",
       "    </tr>\n",
       "    <tr>\n",
       "      <th>churn</th>\n",
       "      <td>176</td>\n",
       "      <td>216</td>\n",
       "    </tr>\n",
       "  </tbody>\n",
       "</table>\n",
       "</div>"
      ],
      "text/plain": [
       "       loyal predicted churn predicted\n",
       "actual                                \n",
       "loyal              911             106\n",
       "churn              176             216"
      ]
     },
     "execution_count": 8,
     "metadata": {},
     "output_type": "execute_result"
    }
   ],
   "source": [
    "labels = ['loyal', 'churn']\n",
    "predicted_labels = [name + \" predicted\" for name in labels ]\n",
    "conf = pd.DataFrame(confusion_matrix(y_train, y_pred_LRs), index=labels, columns=[predicted_labels])\n",
    "conf.index.name = \"actual\"\n",
    "conf"
   ]
  },
  {
   "cell_type": "code",
   "execution_count": 9,
   "metadata": {},
   "outputs": [
    {
     "name": "stdout",
     "output_type": "stream",
     "text": [
      "              precision    recall  f1-score   support\n",
      "\n",
      "          No       0.84      0.90      0.87      1017\n",
      "         Yes       0.67      0.55      0.61       392\n",
      "\n",
      "    accuracy                           0.80      1409\n",
      "   macro avg       0.75      0.72      0.74      1409\n",
      "weighted avg       0.79      0.80      0.79      1409\n",
      "\n"
     ]
    }
   ],
   "source": [
    "print(classification_report(y_train, y_pred_LRs))"
   ]
  },
  {
   "cell_type": "code",
   "execution_count": 10,
   "metadata": {},
   "outputs": [
    {
     "name": "stdout",
     "output_type": "stream",
     "text": [
      "              precision    recall  f1-score   support\n",
      "\n",
      "          No       0.85      0.89      0.87       837\n",
      "         Yes       0.63      0.53      0.58       290\n",
      "\n",
      "    accuracy                           0.80      1127\n",
      "   macro avg       0.74      0.71      0.72      1127\n",
      "weighted avg       0.79      0.80      0.79      1127\n",
      "\n"
     ]
    }
   ],
   "source": [
    "# Is it overfit? --> Nope\n",
    "y_pred_LRvs = logit_s.predict(X_valid_scaled)\n",
    "\n",
    "print(classification_report(y_valid, y_pred_LRvs))"
   ]
  },
  {
   "cell_type": "markdown",
   "metadata": {},
   "source": [
    "# Decision Tree Model"
   ]
  },
  {
   "cell_type": "code",
   "execution_count": 11,
   "metadata": {},
   "outputs": [],
   "source": [
    "clf = DecisionTreeClassifier(criterion='gini', max_depth=5, random_state=123).fit(X_train, y_train)\n",
    "y_pred_DT = clf.predict(X_train)"
   ]
  },
  {
   "cell_type": "code",
   "execution_count": 12,
   "metadata": {},
   "outputs": [
    {
     "data": {
      "text/html": [
       "<div>\n",
       "<style scoped>\n",
       "    .dataframe tbody tr th:only-of-type {\n",
       "        vertical-align: middle;\n",
       "    }\n",
       "\n",
       "    .dataframe tbody tr th {\n",
       "        vertical-align: top;\n",
       "    }\n",
       "\n",
       "    .dataframe thead tr th {\n",
       "        text-align: left;\n",
       "    }\n",
       "\n",
       "    .dataframe thead tr:last-of-type th {\n",
       "        text-align: right;\n",
       "    }\n",
       "</style>\n",
       "<table border=\"1\" class=\"dataframe\">\n",
       "  <thead>\n",
       "    <tr>\n",
       "      <th></th>\n",
       "      <th>loyal predicted</th>\n",
       "      <th>churn predicted</th>\n",
       "    </tr>\n",
       "    <tr>\n",
       "      <th>actual</th>\n",
       "      <th></th>\n",
       "      <th></th>\n",
       "    </tr>\n",
       "  </thead>\n",
       "  <tbody>\n",
       "    <tr>\n",
       "      <th>loyal</th>\n",
       "      <td>935</td>\n",
       "      <td>82</td>\n",
       "    </tr>\n",
       "    <tr>\n",
       "      <th>churn</th>\n",
       "      <td>196</td>\n",
       "      <td>196</td>\n",
       "    </tr>\n",
       "  </tbody>\n",
       "</table>\n",
       "</div>"
      ],
      "text/plain": [
       "       loyal predicted churn predicted\n",
       "actual                                \n",
       "loyal              935              82\n",
       "churn              196             196"
      ]
     },
     "execution_count": 12,
     "metadata": {},
     "output_type": "execute_result"
    }
   ],
   "source": [
    "labels = ['loyal', 'churn']\n",
    "predicted_labels = [name + \" predicted\" for name in labels ]\n",
    "conf = pd.DataFrame(confusion_matrix(y_train, y_pred_DT), index=labels, columns=[predicted_labels])\n",
    "conf.index.name = \"actual\"\n",
    "conf"
   ]
  },
  {
   "cell_type": "code",
   "execution_count": 13,
   "metadata": {},
   "outputs": [
    {
     "name": "stdout",
     "output_type": "stream",
     "text": [
      "              precision    recall  f1-score   support\n",
      "\n",
      "          No       0.83      0.92      0.87      1017\n",
      "         Yes       0.71      0.50      0.59       392\n",
      "\n",
      "    accuracy                           0.80      1409\n",
      "   macro avg       0.77      0.71      0.73      1409\n",
      "weighted avg       0.79      0.80      0.79      1409\n",
      "\n"
     ]
    }
   ],
   "source": [
    "print(classification_report(y_train, y_pred_DT))"
   ]
  },
  {
   "cell_type": "code",
   "execution_count": 14,
   "metadata": {},
   "outputs": [
    {
     "name": "stdout",
     "output_type": "stream",
     "text": [
      "              precision    recall  f1-score   support\n",
      "\n",
      "          No       0.82      0.91      0.86       837\n",
      "         Yes       0.60      0.41      0.49       290\n",
      "\n",
      "    accuracy                           0.78      1127\n",
      "   macro avg       0.71      0.66      0.67      1127\n",
      "weighted avg       0.76      0.78      0.76      1127\n",
      "\n"
     ]
    }
   ],
   "source": [
    "# Is it overfit? --> Tiny bit\n",
    "y_pred_DTv = clf.predict(X_valid)\n",
    "\n",
    "print(classification_report(y_valid, y_pred_DTv))"
   ]
  },
  {
   "cell_type": "markdown",
   "metadata": {},
   "source": [
    "## Decision Tree Scaled"
   ]
  },
  {
   "cell_type": "code",
   "execution_count": 15,
   "metadata": {},
   "outputs": [],
   "source": [
    "clf_s = DecisionTreeClassifier(criterion='gini', max_depth=5, random_state=123).fit(X_train_scaled, y_train)\n",
    "y_pred_DTs = clf_s.predict(X_train_scaled)"
   ]
  },
  {
   "cell_type": "code",
   "execution_count": 16,
   "metadata": {},
   "outputs": [
    {
     "data": {
      "text/html": [
       "<div>\n",
       "<style scoped>\n",
       "    .dataframe tbody tr th:only-of-type {\n",
       "        vertical-align: middle;\n",
       "    }\n",
       "\n",
       "    .dataframe tbody tr th {\n",
       "        vertical-align: top;\n",
       "    }\n",
       "\n",
       "    .dataframe thead tr th {\n",
       "        text-align: left;\n",
       "    }\n",
       "\n",
       "    .dataframe thead tr:last-of-type th {\n",
       "        text-align: right;\n",
       "    }\n",
       "</style>\n",
       "<table border=\"1\" class=\"dataframe\">\n",
       "  <thead>\n",
       "    <tr>\n",
       "      <th></th>\n",
       "      <th>loyal predicted</th>\n",
       "      <th>churn predicted</th>\n",
       "    </tr>\n",
       "    <tr>\n",
       "      <th>actual</th>\n",
       "      <th></th>\n",
       "      <th></th>\n",
       "    </tr>\n",
       "  </thead>\n",
       "  <tbody>\n",
       "    <tr>\n",
       "      <th>loyal</th>\n",
       "      <td>935</td>\n",
       "      <td>82</td>\n",
       "    </tr>\n",
       "    <tr>\n",
       "      <th>churn</th>\n",
       "      <td>196</td>\n",
       "      <td>196</td>\n",
       "    </tr>\n",
       "  </tbody>\n",
       "</table>\n",
       "</div>"
      ],
      "text/plain": [
       "       loyal predicted churn predicted\n",
       "actual                                \n",
       "loyal              935              82\n",
       "churn              196             196"
      ]
     },
     "execution_count": 16,
     "metadata": {},
     "output_type": "execute_result"
    }
   ],
   "source": [
    "labels = ['loyal', 'churn']\n",
    "predicted_labels = [name + \" predicted\" for name in labels ]\n",
    "conf = pd.DataFrame(confusion_matrix(y_train, y_pred_DTs), index=labels, columns=[predicted_labels])\n",
    "conf.index.name = \"actual\"\n",
    "conf"
   ]
  },
  {
   "cell_type": "code",
   "execution_count": 17,
   "metadata": {},
   "outputs": [
    {
     "name": "stdout",
     "output_type": "stream",
     "text": [
      "              precision    recall  f1-score   support\n",
      "\n",
      "          No       0.83      0.92      0.87      1017\n",
      "         Yes       0.71      0.50      0.59       392\n",
      "\n",
      "    accuracy                           0.80      1409\n",
      "   macro avg       0.77      0.71      0.73      1409\n",
      "weighted avg       0.79      0.80      0.79      1409\n",
      "\n"
     ]
    }
   ],
   "source": [
    "print(classification_report(y_train, y_pred_DTs))"
   ]
  },
  {
   "cell_type": "code",
   "execution_count": 18,
   "metadata": {},
   "outputs": [
    {
     "name": "stdout",
     "output_type": "stream",
     "text": [
      "              precision    recall  f1-score   support\n",
      "\n",
      "          No       0.82      0.91      0.86       837\n",
      "         Yes       0.61      0.42      0.50       290\n",
      "\n",
      "    accuracy                           0.78      1127\n",
      "   macro avg       0.71      0.66      0.68      1127\n",
      "weighted avg       0.77      0.78      0.77      1127\n",
      "\n"
     ]
    }
   ],
   "source": [
    "# Is it overfit? --> Tiny bit\n",
    "y_pred_DTvs = clf_s.predict(X_valid_scaled)\n",
    "\n",
    "print(classification_report(y_valid, y_pred_DTvs))"
   ]
  },
  {
   "cell_type": "markdown",
   "metadata": {},
   "source": [
    "# Random Forest Model"
   ]
  },
  {
   "cell_type": "code",
   "execution_count": 19,
   "metadata": {},
   "outputs": [],
   "source": [
    "rf = RandomForestClassifier(bootstrap=True, class_weight=None, criterion='gini', \n",
    "                            min_samples_leaf=3, n_estimators=100, max_depth=20, random_state=123)\n",
    "\n",
    "rf.fit(X_train, y_train)\n",
    "y_pred_RF = rf.predict(X_train)"
   ]
  },
  {
   "cell_type": "code",
   "execution_count": 20,
   "metadata": {},
   "outputs": [
    {
     "data": {
      "text/html": [
       "<div>\n",
       "<style scoped>\n",
       "    .dataframe tbody tr th:only-of-type {\n",
       "        vertical-align: middle;\n",
       "    }\n",
       "\n",
       "    .dataframe tbody tr th {\n",
       "        vertical-align: top;\n",
       "    }\n",
       "\n",
       "    .dataframe thead tr th {\n",
       "        text-align: left;\n",
       "    }\n",
       "\n",
       "    .dataframe thead tr:last-of-type th {\n",
       "        text-align: right;\n",
       "    }\n",
       "</style>\n",
       "<table border=\"1\" class=\"dataframe\">\n",
       "  <thead>\n",
       "    <tr>\n",
       "      <th></th>\n",
       "      <th>loyal predicted</th>\n",
       "      <th>churn predicted</th>\n",
       "    </tr>\n",
       "    <tr>\n",
       "      <th>actual</th>\n",
       "      <th></th>\n",
       "      <th></th>\n",
       "    </tr>\n",
       "  </thead>\n",
       "  <tbody>\n",
       "    <tr>\n",
       "      <th>loyal</th>\n",
       "      <td>986</td>\n",
       "      <td>31</td>\n",
       "    </tr>\n",
       "    <tr>\n",
       "      <th>churn</th>\n",
       "      <td>89</td>\n",
       "      <td>303</td>\n",
       "    </tr>\n",
       "  </tbody>\n",
       "</table>\n",
       "</div>"
      ],
      "text/plain": [
       "       loyal predicted churn predicted\n",
       "actual                                \n",
       "loyal              986              31\n",
       "churn               89             303"
      ]
     },
     "execution_count": 20,
     "metadata": {},
     "output_type": "execute_result"
    }
   ],
   "source": [
    "labels = ['loyal', 'churn']\n",
    "predicted_labels = [name + \" predicted\" for name in labels ]\n",
    "conf = pd.DataFrame(confusion_matrix(y_train, y_pred_RF), index=labels, columns=[predicted_labels])\n",
    "conf.index.name = \"actual\"\n",
    "conf"
   ]
  },
  {
   "cell_type": "code",
   "execution_count": 21,
   "metadata": {},
   "outputs": [
    {
     "name": "stdout",
     "output_type": "stream",
     "text": [
      "              precision    recall  f1-score   support\n",
      "\n",
      "          No       0.92      0.97      0.94      1017\n",
      "         Yes       0.91      0.77      0.83       392\n",
      "\n",
      "    accuracy                           0.91      1409\n",
      "   macro avg       0.91      0.87      0.89      1409\n",
      "weighted avg       0.91      0.91      0.91      1409\n",
      "\n"
     ]
    }
   ],
   "source": [
    "print(classification_report(y_train, y_pred_RF))"
   ]
  },
  {
   "cell_type": "code",
   "execution_count": 22,
   "metadata": {},
   "outputs": [
    {
     "name": "stdout",
     "output_type": "stream",
     "text": [
      "              precision    recall  f1-score   support\n",
      "\n",
      "          No       0.84      0.90      0.87       837\n",
      "         Yes       0.62      0.49      0.55       290\n",
      "\n",
      "    accuracy                           0.79      1127\n",
      "   macro avg       0.73      0.70      0.71      1127\n",
      "weighted avg       0.78      0.79      0.78      1127\n",
      "\n"
     ]
    }
   ],
   "source": [
    "# Is it overfit? --> Yes but the performance is similar to Logistic Regression and Decision Tree models\n",
    "y_pred_RFv = rf.predict(X_valid)\n",
    "\n",
    "print(classification_report(y_valid, y_pred_RFv))"
   ]
  },
  {
   "cell_type": "code",
   "execution_count": 23,
   "metadata": {},
   "outputs": [
    {
     "data": {
      "image/png": "[encoded data removed]",
      "text/plain": [
       "<Figure size 432x288 with 1 Axes>"
      ]
     },
     "metadata": {
      "needs_background": "light"
     },
     "output_type": "display_data"
    }
   ],
   "source": [
    "importances = rf.feature_importances_\n",
    "std = np.std([tree.feature_importances_ for tree in rf.estimators_],\n",
    "             axis=0)\n",
    "indices = np.argsort(importances)[::-1]\n",
    "\n",
    "# Plot the feature importances of the forest\n",
    "plt.figure()\n",
    "plt.title(\"Feature importances\")\n",
    "plt.bar(range(X_train.shape[1]), importances[indices],\n",
    "       color=\"r\", yerr=std[indices], align=\"center\")\n",
    "plt.xticks(range(X_train.shape[1]), indices)\n",
    "plt.xlim([-1, X_train.shape[1]])\n",
    "plt.show()"
   ]
  },
  {
   "cell_type": "code",
   "execution_count": 24,
   "metadata": {},
   "outputs": [
    {
     "data": {
      "text/plain": [
       "[('tenure', 0.12523317123885136),\n",
       " ('tenure_months', 0.12724794357976818),\n",
       " ('monthly_charges', 0.13684756644638102),\n",
       " ('total_charges', 0.12255933208926098),\n",
       " ('senior_citizen', 0.01631292336565892),\n",
       " ('gender_enc', 0.01947024013951564),\n",
       " ('family_support', 0.025235360267211314),\n",
       " ('phone_service_enc', 0.003911510741659242),\n",
       " ('contract_type_id', 0.08580553006960778),\n",
       " ('internet_service_type_id', 0.04334673685155206),\n",
       " ('extra_lines', 0.021452324976089815),\n",
       " ('internet_services', 0.05641885785490656),\n",
       " ('has_internet', 0.023353309727083965),\n",
       " ('online_security_enc', 0.022964361932268765),\n",
       " ('online_backup_enc', 0.013405397607476253),\n",
       " ('device_protection_enc', 0.010360999133283876),\n",
       " ('tech_support_enc', 0.01412221055507785),\n",
       " ('streaming_tv_enc', 0.011443206961726122),\n",
       " ('streaming_movies_enc', 0.011540248243728594),\n",
       " ('paperless_billing_enc', 0.02300344717960696),\n",
       " ('pay_elec_check', 0.04573695382804372),\n",
       " ('pay_mail', 0.011960596860633069),\n",
       " ('pay_bank', 0.007355225592204001),\n",
       " ('pay_cc', 0.007170862556142028),\n",
       " ('pay_auto', 0.013741682202262002)]"
      ]
     },
     "execution_count": 24,
     "metadata": {},
     "output_type": "execute_result"
    }
   ],
   "source": [
    "list(zip(X_train.columns, rf.feature_importances_))"
   ]
  },
  {
   "cell_type": "code",
   "execution_count": 25,
   "metadata": {},
   "outputs": [],
   "source": [
    "rf_s = RandomForestClassifier(bootstrap=True, class_weight=None, criterion='gini', \n",
    "                            min_samples_leaf=3, n_estimators=100, max_depth=20, random_state=123)\n",
    "\n",
    "rf_s.fit(X_train_scaled, y_train)\n",
    "y_pred_RFs = rf_s.predict(X_train_scaled)"
   ]
  },
  {
   "cell_type": "code",
   "execution_count": 26,
   "metadata": {},
   "outputs": [
    {
     "data": {
      "text/html": [
       "<div>\n",
       "<style scoped>\n",
       "    .dataframe tbody tr th:only-of-type {\n",
       "        vertical-align: middle;\n",
       "    }\n",
       "\n",
       "    .dataframe tbody tr th {\n",
       "        vertical-align: top;\n",
       "    }\n",
       "\n",
       "    .dataframe thead tr th {\n",
       "        text-align: left;\n",
       "    }\n",
       "\n",
       "    .dataframe thead tr:last-of-type th {\n",
       "        text-align: right;\n",
       "    }\n",
       "</style>\n",
       "<table border=\"1\" class=\"dataframe\">\n",
       "  <thead>\n",
       "    <tr>\n",
       "      <th></th>\n",
       "      <th>loyal predicted</th>\n",
       "      <th>churn predicted</th>\n",
       "    </tr>\n",
       "    <tr>\n",
       "      <th>actual</th>\n",
       "      <th></th>\n",
       "      <th></th>\n",
       "    </tr>\n",
       "  </thead>\n",
       "  <tbody>\n",
       "    <tr>\n",
       "      <th>loyal</th>\n",
       "      <td>987</td>\n",
       "      <td>30</td>\n",
       "    </tr>\n",
       "    <tr>\n",
       "      <th>churn</th>\n",
       "      <td>103</td>\n",
       "      <td>289</td>\n",
       "    </tr>\n",
       "  </tbody>\n",
       "</table>\n",
       "</div>"
      ],
      "text/plain": [
       "       loyal predicted churn predicted\n",
       "actual                                \n",
       "loyal              987              30\n",
       "churn              103             289"
      ]
     },
     "execution_count": 26,
     "metadata": {},
     "output_type": "execute_result"
    }
   ],
   "source": [
    "labels = ['loyal', 'churn']\n",
    "predicted_labels = [name + \" predicted\" for name in labels ]\n",
    "conf = pd.DataFrame(confusion_matrix(y_train, y_pred_RFs), index=labels, columns=[predicted_labels])\n",
    "conf.index.name = \"actual\"\n",
    "conf"
   ]
  },
  {
   "cell_type": "code",
   "execution_count": 27,
   "metadata": {},
   "outputs": [
    {
     "name": "stdout",
     "output_type": "stream",
     "text": [
      "              precision    recall  f1-score   support\n",
      "\n",
      "          No       0.91      0.97      0.94      1017\n",
      "         Yes       0.91      0.74      0.81       392\n",
      "\n",
      "    accuracy                           0.91      1409\n",
      "   macro avg       0.91      0.85      0.87      1409\n",
      "weighted avg       0.91      0.91      0.90      1409\n",
      "\n"
     ]
    }
   ],
   "source": [
    "print(classification_report(y_train, y_pred_RFs))"
   ]
  },
  {
   "cell_type": "code",
   "execution_count": 28,
   "metadata": {},
   "outputs": [
    {
     "name": "stdout",
     "output_type": "stream",
     "text": [
      "              precision    recall  f1-score   support\n",
      "\n",
      "          No       0.83      0.90      0.87       837\n",
      "         Yes       0.63      0.48      0.55       290\n",
      "\n",
      "    accuracy                           0.79      1127\n",
      "   macro avg       0.73      0.69      0.71      1127\n",
      "weighted avg       0.78      0.79      0.78      1127\n",
      "\n"
     ]
    }
   ],
   "source": [
    "# Is it overfit? --> Yes but the performance is similar to Logistic Regression and Decision Tree models\n",
    "y_pred_RFvs = rf_s.predict(X_valid_scaled)\n",
    "\n",
    "print(classification_report(y_valid, y_pred_RFvs))"
   ]
  },
  {
   "cell_type": "code",
   "execution_count": 29,
   "metadata": {},
   "outputs": [
    {
     "data": {
      "image/png": "[encoded data removed]",
      "text/plain": [
       "<Figure size 432x288 with 1 Axes>"
      ]
     },
     "metadata": {
      "needs_background": "light"
     },
     "output_type": "display_data"
    }
   ],
   "source": [
    "importances = rf_s.feature_importances_\n",
    "std = np.std([tree.feature_importances_ for tree in rf_s.estimators_],\n",
    "             axis=0)\n",
    "indices = np.argsort(importances)[::-1]\n",
    "\n",
    "# Plot the feature importances of the forest\n",
    "plt.figure()\n",
    "plt.title(\"Feature importances\")\n",
    "plt.bar(range(X_train_scaled.shape[1]), importances[indices],\n",
    "       color=\"r\", yerr=std[indices], align=\"center\")\n",
    "plt.xticks(range(X_train_scaled.shape[1]), indices)\n",
    "plt.xlim([-1, X_train_scaled.shape[1]])\n",
    "plt.show()"
   ]
  },
  {
   "cell_type": "code",
   "execution_count": 30,
   "metadata": {},
   "outputs": [
    {
     "data": {
      "text/plain": [
       "[('tenure_nml', 0.16790945523839715),\n",
       " ('monthly_charges_nml', 0.14523781712238792),\n",
       " ('total_charges_nml', 0.1474434300006752),\n",
       " ('senior_citizen', 0.016442005261290374),\n",
       " ('gender_enc', 0.017452526960359413),\n",
       " ('family_support', 0.02794153970466573),\n",
       " ('phone_service_enc', 0.0045274227799558895),\n",
       " ('contract_type_id', 0.08726111041338232),\n",
       " ('internet_service_type_id', 0.05663170091975243),\n",
       " ('extra_lines', 0.024411871652860545),\n",
       " ('internet_services', 0.059068000019530824),\n",
       " ('has_internet', 0.022541366334256647),\n",
       " ('online_security_enc', 0.029319819333551645),\n",
       " ('online_backup_enc', 0.017300221153528708),\n",
       " ('device_protection_enc', 0.011789131118396913),\n",
       " ('tech_support_enc', 0.02042813390345716),\n",
       " ('streaming_tv_enc', 0.013554855071474222),\n",
       " ('streaming_movies_enc', 0.012723776322067538),\n",
       " ('paperless_billing_enc', 0.02154807671174964),\n",
       " ('pay_elec_check', 0.05239276181518172),\n",
       " ('pay_mail', 0.009926470945997084),\n",
       " ('pay_bank', 0.009977518627858796),\n",
       " ('pay_cc', 0.007380247585243865),\n",
       " ('pay_auto', 0.016790741003978343)]"
      ]
     },
     "execution_count": 30,
     "metadata": {},
     "output_type": "execute_result"
    }
   ],
   "source": [
    "list(zip(X_train_scaled.columns, rf_s.feature_importances_))"
   ]
  },
  {
   "cell_type": "markdown",
   "metadata": {},
   "source": [
    "## KNN Model"
   ]
  },
  {
   "cell_type": "code",
   "execution_count": 31,
   "metadata": {},
   "outputs": [],
   "source": [
    "knn = KNeighborsClassifier(n_neighbors=5, weights='uniform').fit(X_train, y_train)\n",
    "\n",
    "y_pred_knn = knn.predict(X_train)"
   ]
  },
  {
   "cell_type": "code",
   "execution_count": 32,
   "metadata": {},
   "outputs": [
    {
     "data": {
      "text/html": [
       "<div>\n",
       "<style scoped>\n",
       "    .dataframe tbody tr th:only-of-type {\n",
       "        vertical-align: middle;\n",
       "    }\n",
       "\n",
       "    .dataframe tbody tr th {\n",
       "        vertical-align: top;\n",
       "    }\n",
       "\n",
       "    .dataframe thead tr th {\n",
       "        text-align: left;\n",
       "    }\n",
       "\n",
       "    .dataframe thead tr:last-of-type th {\n",
       "        text-align: right;\n",
       "    }\n",
       "</style>\n",
       "<table border=\"1\" class=\"dataframe\">\n",
       "  <thead>\n",
       "    <tr>\n",
       "      <th></th>\n",
       "      <th>loyal predicted</th>\n",
       "      <th>churn predicted</th>\n",
       "    </tr>\n",
       "    <tr>\n",
       "      <th>actual</th>\n",
       "      <th></th>\n",
       "      <th></th>\n",
       "    </tr>\n",
       "  </thead>\n",
       "  <tbody>\n",
       "    <tr>\n",
       "      <th>loyal</th>\n",
       "      <td>939</td>\n",
       "      <td>78</td>\n",
       "    </tr>\n",
       "    <tr>\n",
       "      <th>churn</th>\n",
       "      <td>171</td>\n",
       "      <td>221</td>\n",
       "    </tr>\n",
       "  </tbody>\n",
       "</table>\n",
       "</div>"
      ],
      "text/plain": [
       "       loyal predicted churn predicted\n",
       "actual                                \n",
       "loyal              939              78\n",
       "churn              171             221"
      ]
     },
     "execution_count": 32,
     "metadata": {},
     "output_type": "execute_result"
    }
   ],
   "source": [
    "labels = ['loyal', 'churn']\n",
    "predicted_labels = [name + \" predicted\" for name in labels ]\n",
    "conf = pd.DataFrame(confusion_matrix(y_train, y_pred_knn), index=labels, columns=[predicted_labels])\n",
    "conf.index.name = \"actual\"\n",
    "conf"
   ]
  },
  {
   "cell_type": "code",
   "execution_count": 33,
   "metadata": {},
   "outputs": [
    {
     "name": "stdout",
     "output_type": "stream",
     "text": [
      "              precision    recall  f1-score   support\n",
      "\n",
      "          No       0.85      0.92      0.88      1017\n",
      "         Yes       0.74      0.56      0.64       392\n",
      "\n",
      "    accuracy                           0.82      1409\n",
      "   macro avg       0.79      0.74      0.76      1409\n",
      "weighted avg       0.82      0.82      0.82      1409\n",
      "\n"
     ]
    }
   ],
   "source": [
    "print(classification_report(y_train, y_pred_knn))"
   ]
  },
  {
   "cell_type": "code",
   "execution_count": 34,
   "metadata": {},
   "outputs": [
    {
     "name": "stdout",
     "output_type": "stream",
     "text": [
      "              precision    recall  f1-score   support\n",
      "\n",
      "          No       0.81      0.88      0.84       837\n",
      "         Yes       0.53      0.40      0.45       290\n",
      "\n",
      "    accuracy                           0.75      1127\n",
      "   macro avg       0.67      0.64      0.65      1127\n",
      "weighted avg       0.74      0.75      0.74      1127\n",
      "\n"
     ]
    }
   ],
   "source": [
    "# Is it overfit? --> Yes\n",
    "y_pred_knnv = knn.predict(X_valid)\n",
    "\n",
    "print(classification_report(y_valid, y_pred_knnv))"
   ]
  },
  {
   "cell_type": "markdown",
   "metadata": {},
   "source": [
    "### KNN Model Scaled"
   ]
  },
  {
   "cell_type": "code",
   "execution_count": 35,
   "metadata": {},
   "outputs": [],
   "source": [
    "knn_s = KNeighborsClassifier(n_neighbors=5, weights='uniform').fit(X_train_scaled, y_train)\n",
    "\n",
    "y_pred_knns = knn_s.predict(X_train_scaled)"
   ]
  },
  {
   "cell_type": "code",
   "execution_count": 36,
   "metadata": {},
   "outputs": [
    {
     "data": {
      "text/html": [
       "<div>\n",
       "<style scoped>\n",
       "    .dataframe tbody tr th:only-of-type {\n",
       "        vertical-align: middle;\n",
       "    }\n",
       "\n",
       "    .dataframe tbody tr th {\n",
       "        vertical-align: top;\n",
       "    }\n",
       "\n",
       "    .dataframe thead tr th {\n",
       "        text-align: left;\n",
       "    }\n",
       "\n",
       "    .dataframe thead tr:last-of-type th {\n",
       "        text-align: right;\n",
       "    }\n",
       "</style>\n",
       "<table border=\"1\" class=\"dataframe\">\n",
       "  <thead>\n",
       "    <tr>\n",
       "      <th></th>\n",
       "      <th>loyal predicted</th>\n",
       "      <th>churn predicted</th>\n",
       "    </tr>\n",
       "    <tr>\n",
       "      <th>actual</th>\n",
       "      <th></th>\n",
       "      <th></th>\n",
       "    </tr>\n",
       "  </thead>\n",
       "  <tbody>\n",
       "    <tr>\n",
       "      <th>loyal</th>\n",
       "      <td>928</td>\n",
       "      <td>89</td>\n",
       "    </tr>\n",
       "    <tr>\n",
       "      <th>churn</th>\n",
       "      <td>141</td>\n",
       "      <td>251</td>\n",
       "    </tr>\n",
       "  </tbody>\n",
       "</table>\n",
       "</div>"
      ],
      "text/plain": [
       "       loyal predicted churn predicted\n",
       "actual                                \n",
       "loyal              928              89\n",
       "churn              141             251"
      ]
     },
     "execution_count": 36,
     "metadata": {},
     "output_type": "execute_result"
    }
   ],
   "source": [
    "labels = ['loyal', 'churn']\n",
    "predicted_labels = [name + \" predicted\" for name in labels ]\n",
    "conf = pd.DataFrame(confusion_matrix(y_train, y_pred_knns), index=labels, columns=[predicted_labels])\n",
    "conf.index.name = \"actual\"\n",
    "conf"
   ]
  },
  {
   "cell_type": "code",
   "execution_count": 37,
   "metadata": {},
   "outputs": [
    {
     "name": "stdout",
     "output_type": "stream",
     "text": [
      "              precision    recall  f1-score   support\n",
      "\n",
      "          No       0.87      0.91      0.89      1017\n",
      "         Yes       0.74      0.64      0.69       392\n",
      "\n",
      "    accuracy                           0.84      1409\n",
      "   macro avg       0.80      0.78      0.79      1409\n",
      "weighted avg       0.83      0.84      0.83      1409\n",
      "\n"
     ]
    }
   ],
   "source": [
    "print(classification_report(y_train, y_pred_knns))"
   ]
  },
  {
   "cell_type": "code",
   "execution_count": 40,
   "metadata": {},
   "outputs": [
    {
     "name": "stdout",
     "output_type": "stream",
     "text": [
      "              precision    recall  f1-score   support\n",
      "\n",
      "          No       0.84      0.84      0.84       837\n",
      "         Yes       0.54      0.53      0.54       290\n",
      "\n",
      "    accuracy                           0.76      1127\n",
      "   macro avg       0.69      0.69      0.69      1127\n",
      "weighted avg       0.76      0.76      0.76      1127\n",
      "\n"
     ]
    }
   ],
   "source": [
    "# Is it overfit? --> Yes\n",
    "y_pred_knnvs = knn_s.predict(X_valid_scaled)\n",
    "\n",
    "print(classification_report(y_valid, y_pred_knnvs))"
   ]
  },
  {
   "cell_type": "code",
   "execution_count": null,
   "metadata": {},
   "outputs": [],
   "source": [
    "# After al this, I like the Random Forest model best"
   ]
  },
  {
   "cell_type": "markdown",
   "metadata": {},
   "source": [
    "## Decide which features to use"
   ]
  },
  {
   "cell_type": "code",
   "execution_count": null,
   "metadata": {},
   "outputs": [],
   "source": []
  }
 ],
 "metadata": {
  "kernelspec": {
   "display_name": "Python 3",
   "language": "python",
   "name": "python3"
  },
  "language_info": {
   "codemirror_mode": {
    "name": "ipython",
    "version": 3
   },
   "file_extension": ".py",
   "mimetype": "text/x-python",
   "name": "python",
   "nbconvert_exporter": "python",
   "pygments_lexer": "ipython3",
   "version": "3.7.4"
  }
 },
 "nbformat": 4,
 "nbformat_minor": 4
}
