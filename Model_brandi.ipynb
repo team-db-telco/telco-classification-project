{
 "cells": [
  {
   "cell_type": "code",
   "execution_count": 1,
   "metadata": {},
   "outputs": [],
   "source": [
    "import numpy as np\n",
    "import pandas as pd\n",
    "pd.options.display.float_format = '{:.3f}'.format\n",
    "import warnings\n",
    "warnings.filterwarnings(\"ignore\")\n",
    "\n",
    "import matplotlib.pyplot as plt\n",
    "\n",
    "from sklearn.linear_model import LogisticRegression\n",
    "from sklearn.tree import DecisionTreeClassifier\n",
    "from sklearn.ensemble import RandomForestClassifier\n",
    "from sklearn.neighbors import KNeighborsClassifier\n",
    "\n",
    "from sklearn.metrics import classification_report\n",
    "from sklearn.metrics import confusion_matrix\n",
    "\n",
    "df = pd.read_csv('train.csv')\n",
    "valid = pd.read_csv('valid.csv')"
   ]
  },
  {
   "cell_type": "code",
   "execution_count": 2,
   "metadata": {},
   "outputs": [],
   "source": [
    "# The first set of models will be made using all the variables, unscaled.\n",
    "# The second st will replace unscaled with scaled variables.\n",
    "# After that, we'll reduce the number of variables to only those which were important\n",
    "X_train = df.drop(columns=['churn', 'Unnamed: 0', 'customer_id', 'tenure_nml', 'monthly_charges_nml', 'total_charges_nml', 'churn_enc'])\n",
    "X_train_scaled = df.drop(columns=['churn', 'Unnamed: 0', 'customer_id', 'tenure', 'tenure_years', 'monthly_charges', 'total_charges', 'churn_enc'])\n",
    "X_valid = valid.drop(columns=['churn', 'Unnamed: 0', 'customer_id', 'tenure_nml', 'monthly_charges_nml', 'total_charges_nml', 'churn_enc'])\n",
    "X_valid_scaled = valid.drop(columns=['churn', 'Unnamed: 0', 'customer_id', 'tenure', 'tenure_years', 'monthly_charges', 'total_charges', 'churn_enc'])\n",
    "\n",
    "y_train = df[['churn']]\n",
    "y_valid = valid[['churn']]"
   ]
  },
  {
   "cell_type": "markdown",
   "metadata": {},
   "source": [
    "# Logistic Regression Model"
   ]
  },
  {
   "cell_type": "code",
   "execution_count": 3,
   "metadata": {},
   "outputs": [
    {
     "data": {
      "text/plain": [
       "array(['Yes', 'Yes', 'No', ..., 'No', 'No', 'No'], dtype=object)"
      ]
     },
     "execution_count": 3,
     "metadata": {},
     "output_type": "execute_result"
    }
   ],
   "source": [
    "logit = LogisticRegression().fit(X_train, y_train)\n",
    "y_pred_LR = logit.predict(X_train)\n",
    "y_pred_LR"
   ]
  },
  {
   "cell_type": "code",
   "execution_count": 4,
   "metadata": {},
   "outputs": [
    {
     "data": {
      "text/plain": [
       "array([[0.42409232, 0.57590768],\n",
       "       [0.32664666, 0.67335334],\n",
       "       [0.52121221, 0.47878779],\n",
       "       ...,\n",
       "       [0.99637537, 0.00362463],\n",
       "       [0.68385861, 0.31614139],\n",
       "       [0.68532803, 0.31467197]])"
      ]
     },
     "execution_count": 4,
     "metadata": {},
     "output_type": "execute_result"
    }
   ],
   "source": [
    "y_pred_proba = logit.predict_proba(X_train)\n",
    "y_pred_proba"
   ]
  },
  {
   "cell_type": "code",
   "execution_count": 5,
   "metadata": {},
   "outputs": [
    {
     "data": {
      "text/html": [
       "<div>\n",
       "<style scoped>\n",
       "    .dataframe tbody tr th:only-of-type {\n",
       "        vertical-align: middle;\n",
       "    }\n",
       "\n",
       "    .dataframe tbody tr th {\n",
       "        vertical-align: top;\n",
       "    }\n",
       "\n",
       "    .dataframe thead tr th {\n",
       "        text-align: left;\n",
       "    }\n",
       "\n",
       "    .dataframe thead tr:last-of-type th {\n",
       "        text-align: right;\n",
       "    }\n",
       "</style>\n",
       "<table border=\"1\" class=\"dataframe\">\n",
       "  <thead>\n",
       "    <tr>\n",
       "      <th></th>\n",
       "      <th>loyal predicted</th>\n",
       "      <th>churn predicted</th>\n",
       "    </tr>\n",
       "    <tr>\n",
       "      <th>actual</th>\n",
       "      <th></th>\n",
       "      <th></th>\n",
       "    </tr>\n",
       "  </thead>\n",
       "  <tbody>\n",
       "    <tr>\n",
       "      <th>loyal</th>\n",
       "      <td>2989</td>\n",
       "      <td>331</td>\n",
       "    </tr>\n",
       "    <tr>\n",
       "      <th>churn</th>\n",
       "      <td>533</td>\n",
       "      <td>654</td>\n",
       "    </tr>\n",
       "  </tbody>\n",
       "</table>\n",
       "</div>"
      ],
      "text/plain": [
       "       loyal predicted churn predicted\n",
       "actual                                \n",
       "loyal             2989             331\n",
       "churn              533             654"
      ]
     },
     "execution_count": 5,
     "metadata": {},
     "output_type": "execute_result"
    }
   ],
   "source": [
    "labels = ['loyal', 'churn']\n",
    "predicted_labels = [name + \" predicted\" for name in labels ]\n",
    "conf = pd.DataFrame(confusion_matrix(y_train, y_pred_LR), index=labels, columns=[predicted_labels])\n",
    "conf.index.name = \"actual\"\n",
    "conf"
   ]
  },
  {
   "cell_type": "code",
   "execution_count": 6,
   "metadata": {},
   "outputs": [
    {
     "name": "stdout",
     "output_type": "stream",
     "text": [
      "              precision    recall  f1-score   support\n",
      "\n",
      "          No       0.85      0.90      0.87      3320\n",
      "         Yes       0.66      0.55      0.60      1187\n",
      "\n",
      "    accuracy                           0.81      4507\n",
      "   macro avg       0.76      0.73      0.74      4507\n",
      "weighted avg       0.80      0.81      0.80      4507\n",
      "\n"
     ]
    }
   ],
   "source": [
    "print(classification_report(y_train, y_pred_LR))"
   ]
  },
  {
   "cell_type": "code",
   "execution_count": 7,
   "metadata": {},
   "outputs": [
    {
     "name": "stdout",
     "output_type": "stream",
     "text": [
      "              precision    recall  f1-score   support\n",
      "\n",
      "          No       0.85      0.89      0.87       837\n",
      "         Yes       0.64      0.53      0.58       290\n",
      "\n",
      "    accuracy                           0.80      1127\n",
      "   macro avg       0.74      0.71      0.72      1127\n",
      "weighted avg       0.79      0.80      0.80      1127\n",
      "\n"
     ]
    }
   ],
   "source": [
    "# Is it overfit?  --> Nope\n",
    "y_pred_LRv = logit.predict(X_valid)\n",
    "\n",
    "print(classification_report(y_valid, y_pred_LRv))"
   ]
  },
  {
   "cell_type": "markdown",
   "metadata": {},
   "source": [
    "## Logistic Regression Scaled"
   ]
  },
  {
   "cell_type": "code",
   "execution_count": 8,
   "metadata": {},
   "outputs": [],
   "source": [
    "logit_s = LogisticRegression().fit(X_train_scaled, y_train)\n",
    "y_pred_LRs = logit_s.predict(X_train_scaled)"
   ]
  },
  {
   "cell_type": "code",
   "execution_count": 9,
   "metadata": {},
   "outputs": [
    {
     "data": {
      "text/html": [
       "<div>\n",
       "<style scoped>\n",
       "    .dataframe tbody tr th:only-of-type {\n",
       "        vertical-align: middle;\n",
       "    }\n",
       "\n",
       "    .dataframe tbody tr th {\n",
       "        vertical-align: top;\n",
       "    }\n",
       "\n",
       "    .dataframe thead tr th {\n",
       "        text-align: left;\n",
       "    }\n",
       "\n",
       "    .dataframe thead tr:last-of-type th {\n",
       "        text-align: right;\n",
       "    }\n",
       "</style>\n",
       "<table border=\"1\" class=\"dataframe\">\n",
       "  <thead>\n",
       "    <tr>\n",
       "      <th></th>\n",
       "      <th>loyal predicted</th>\n",
       "      <th>churn predicted</th>\n",
       "    </tr>\n",
       "    <tr>\n",
       "      <th>actual</th>\n",
       "      <th></th>\n",
       "      <th></th>\n",
       "    </tr>\n",
       "  </thead>\n",
       "  <tbody>\n",
       "    <tr>\n",
       "      <th>loyal</th>\n",
       "      <td>3013</td>\n",
       "      <td>307</td>\n",
       "    </tr>\n",
       "    <tr>\n",
       "      <th>churn</th>\n",
       "      <td>519</td>\n",
       "      <td>668</td>\n",
       "    </tr>\n",
       "  </tbody>\n",
       "</table>\n",
       "</div>"
      ],
      "text/plain": [
       "       loyal predicted churn predicted\n",
       "actual                                \n",
       "loyal             3013             307\n",
       "churn              519             668"
      ]
     },
     "execution_count": 9,
     "metadata": {},
     "output_type": "execute_result"
    }
   ],
   "source": [
    "labels = ['loyal', 'churn']\n",
    "predicted_labels = [name + \" predicted\" for name in labels ]\n",
    "conf = pd.DataFrame(confusion_matrix(y_train, y_pred_LRs), index=labels, columns=[predicted_labels])\n",
    "conf.index.name = \"actual\"\n",
    "conf"
   ]
  },
  {
   "cell_type": "code",
   "execution_count": 10,
   "metadata": {},
   "outputs": [
    {
     "name": "stdout",
     "output_type": "stream",
     "text": [
      "              precision    recall  f1-score   support\n",
      "\n",
      "          No       0.85      0.91      0.88      3320\n",
      "         Yes       0.69      0.56      0.62      1187\n",
      "\n",
      "    accuracy                           0.82      4507\n",
      "   macro avg       0.77      0.74      0.75      4507\n",
      "weighted avg       0.81      0.82      0.81      4507\n",
      "\n"
     ]
    }
   ],
   "source": [
    "print(classification_report(y_train, y_pred_LRs))"
   ]
  },
  {
   "cell_type": "code",
   "execution_count": 11,
   "metadata": {},
   "outputs": [
    {
     "name": "stdout",
     "output_type": "stream",
     "text": [
      "              precision    recall  f1-score   support\n",
      "\n",
      "          No       0.84      0.91      0.87       837\n",
      "         Yes       0.66      0.51      0.57       290\n",
      "\n",
      "    accuracy                           0.81      1127\n",
      "   macro avg       0.75      0.71      0.72      1127\n",
      "weighted avg       0.80      0.81      0.80      1127\n",
      "\n"
     ]
    }
   ],
   "source": [
    "# Is it overfit? --> Nope\n",
    "y_pred_LRvs = logit_s.predict(X_valid_scaled)\n",
    "\n",
    "print(classification_report(y_valid, y_pred_LRvs))"
   ]
  },
  {
   "cell_type": "markdown",
   "metadata": {},
   "source": [
    "# Decision Tree Model"
   ]
  },
  {
   "cell_type": "code",
   "execution_count": 12,
   "metadata": {},
   "outputs": [],
   "source": [
    "clf = DecisionTreeClassifier(criterion='gini', max_depth=5, random_state=123).fit(X_train, y_train)\n",
    "y_pred_DT = clf.predict(X_train)"
   ]
  },
  {
   "cell_type": "code",
   "execution_count": 13,
   "metadata": {},
   "outputs": [
    {
     "data": {
      "text/html": [
       "<div>\n",
       "<style scoped>\n",
       "    .dataframe tbody tr th:only-of-type {\n",
       "        vertical-align: middle;\n",
       "    }\n",
       "\n",
       "    .dataframe tbody tr th {\n",
       "        vertical-align: top;\n",
       "    }\n",
       "\n",
       "    .dataframe thead tr th {\n",
       "        text-align: left;\n",
       "    }\n",
       "\n",
       "    .dataframe thead tr:last-of-type th {\n",
       "        text-align: right;\n",
       "    }\n",
       "</style>\n",
       "<table border=\"1\" class=\"dataframe\">\n",
       "  <thead>\n",
       "    <tr>\n",
       "      <th></th>\n",
       "      <th>loyal predicted</th>\n",
       "      <th>churn predicted</th>\n",
       "    </tr>\n",
       "    <tr>\n",
       "      <th>actual</th>\n",
       "      <th></th>\n",
       "      <th></th>\n",
       "    </tr>\n",
       "  </thead>\n",
       "  <tbody>\n",
       "    <tr>\n",
       "      <th>loyal</th>\n",
       "      <td>3126</td>\n",
       "      <td>194</td>\n",
       "    </tr>\n",
       "    <tr>\n",
       "      <th>churn</th>\n",
       "      <td>721</td>\n",
       "      <td>466</td>\n",
       "    </tr>\n",
       "  </tbody>\n",
       "</table>\n",
       "</div>"
      ],
      "text/plain": [
       "       loyal predicted churn predicted\n",
       "actual                                \n",
       "loyal             3126             194\n",
       "churn              721             466"
      ]
     },
     "execution_count": 13,
     "metadata": {},
     "output_type": "execute_result"
    }
   ],
   "source": [
    "labels = ['loyal', 'churn']\n",
    "predicted_labels = [name + \" predicted\" for name in labels ]\n",
    "conf = pd.DataFrame(confusion_matrix(y_train, y_pred_DT), index=labels, columns=[predicted_labels])\n",
    "conf.index.name = \"actual\"\n",
    "conf"
   ]
  },
  {
   "cell_type": "code",
   "execution_count": 14,
   "metadata": {},
   "outputs": [
    {
     "name": "stdout",
     "output_type": "stream",
     "text": [
      "              precision    recall  f1-score   support\n",
      "\n",
      "          No       0.81      0.94      0.87      3320\n",
      "         Yes       0.71      0.39      0.50      1187\n",
      "\n",
      "    accuracy                           0.80      4507\n",
      "   macro avg       0.76      0.67      0.69      4507\n",
      "weighted avg       0.78      0.80      0.78      4507\n",
      "\n"
     ]
    }
   ],
   "source": [
    "print(classification_report(y_train, y_pred_DT))"
   ]
  },
  {
   "cell_type": "code",
   "execution_count": 15,
   "metadata": {},
   "outputs": [
    {
     "name": "stdout",
     "output_type": "stream",
     "text": [
      "              precision    recall  f1-score   support\n",
      "\n",
      "          No       0.81      0.96      0.87       837\n",
      "         Yes       0.73      0.34      0.46       290\n",
      "\n",
      "    accuracy                           0.80      1127\n",
      "   macro avg       0.77      0.65      0.67      1127\n",
      "weighted avg       0.79      0.80      0.77      1127\n",
      "\n"
     ]
    }
   ],
   "source": [
    "# Is it overfit? --> Tiny bit\n",
    "y_pred_DTv = clf.predict(X_valid)\n",
    "\n",
    "print(classification_report(y_valid, y_pred_DTv))"
   ]
  },
  {
   "cell_type": "markdown",
   "metadata": {},
   "source": [
    "## Decision Tree Scaled"
   ]
  },
  {
   "cell_type": "code",
   "execution_count": 16,
   "metadata": {},
   "outputs": [],
   "source": [
    "clf_s = DecisionTreeClassifier(criterion='gini', max_depth=5, random_state=123).fit(X_train_scaled, y_train)\n",
    "y_pred_DTs = clf_s.predict(X_train_scaled)"
   ]
  },
  {
   "cell_type": "code",
   "execution_count": 17,
   "metadata": {},
   "outputs": [
    {
     "data": {
      "text/html": [
       "<div>\n",
       "<style scoped>\n",
       "    .dataframe tbody tr th:only-of-type {\n",
       "        vertical-align: middle;\n",
       "    }\n",
       "\n",
       "    .dataframe tbody tr th {\n",
       "        vertical-align: top;\n",
       "    }\n",
       "\n",
       "    .dataframe thead tr th {\n",
       "        text-align: left;\n",
       "    }\n",
       "\n",
       "    .dataframe thead tr:last-of-type th {\n",
       "        text-align: right;\n",
       "    }\n",
       "</style>\n",
       "<table border=\"1\" class=\"dataframe\">\n",
       "  <thead>\n",
       "    <tr>\n",
       "      <th></th>\n",
       "      <th>loyal predicted</th>\n",
       "      <th>churn predicted</th>\n",
       "    </tr>\n",
       "    <tr>\n",
       "      <th>actual</th>\n",
       "      <th></th>\n",
       "      <th></th>\n",
       "    </tr>\n",
       "  </thead>\n",
       "  <tbody>\n",
       "    <tr>\n",
       "      <th>loyal</th>\n",
       "      <td>3126</td>\n",
       "      <td>194</td>\n",
       "    </tr>\n",
       "    <tr>\n",
       "      <th>churn</th>\n",
       "      <td>721</td>\n",
       "      <td>466</td>\n",
       "    </tr>\n",
       "  </tbody>\n",
       "</table>\n",
       "</div>"
      ],
      "text/plain": [
       "       loyal predicted churn predicted\n",
       "actual                                \n",
       "loyal             3126             194\n",
       "churn              721             466"
      ]
     },
     "execution_count": 17,
     "metadata": {},
     "output_type": "execute_result"
    }
   ],
   "source": [
    "labels = ['loyal', 'churn']\n",
    "predicted_labels = [name + \" predicted\" for name in labels ]\n",
    "conf = pd.DataFrame(confusion_matrix(y_train, y_pred_DTs), index=labels, columns=[predicted_labels])\n",
    "conf.index.name = \"actual\"\n",
    "conf"
   ]
  },
  {
   "cell_type": "code",
   "execution_count": 18,
   "metadata": {},
   "outputs": [
    {
     "name": "stdout",
     "output_type": "stream",
     "text": [
      "              precision    recall  f1-score   support\n",
      "\n",
      "          No       0.81      0.94      0.87      3320\n",
      "         Yes       0.71      0.39      0.50      1187\n",
      "\n",
      "    accuracy                           0.80      4507\n",
      "   macro avg       0.76      0.67      0.69      4507\n",
      "weighted avg       0.78      0.80      0.78      4507\n",
      "\n"
     ]
    }
   ],
   "source": [
    "print(classification_report(y_train, y_pred_DTs))"
   ]
  },
  {
   "cell_type": "code",
   "execution_count": 19,
   "metadata": {},
   "outputs": [
    {
     "name": "stdout",
     "output_type": "stream",
     "text": [
      "              precision    recall  f1-score   support\n",
      "\n",
      "          No       0.81      0.96      0.87       837\n",
      "         Yes       0.73      0.34      0.46       290\n",
      "\n",
      "    accuracy                           0.80      1127\n",
      "   macro avg       0.77      0.65      0.67      1127\n",
      "weighted avg       0.79      0.80      0.77      1127\n",
      "\n"
     ]
    }
   ],
   "source": [
    "# Is it overfit? --> Tiny bit\n",
    "y_pred_DTvs = clf_s.predict(X_valid_scaled)\n",
    "\n",
    "print(classification_report(y_valid, y_pred_DTvs))"
   ]
  },
  {
   "cell_type": "markdown",
   "metadata": {},
   "source": [
    "# Random Forest Model"
   ]
  },
  {
   "cell_type": "code",
   "execution_count": 20,
   "metadata": {},
   "outputs": [],
   "source": [
    "rf = RandomForestClassifier(bootstrap=True, class_weight=None, criterion='gini', \n",
    "                            min_samples_leaf=3, n_estimators=100, max_depth=20, random_state=123)\n",
    "\n",
    "rf.fit(X_train, y_train)\n",
    "y_pred_RF = rf.predict(X_train)"
   ]
  },
  {
   "cell_type": "code",
   "execution_count": 21,
   "metadata": {},
   "outputs": [
    {
     "data": {
      "text/html": [
       "<div>\n",
       "<style scoped>\n",
       "    .dataframe tbody tr th:only-of-type {\n",
       "        vertical-align: middle;\n",
       "    }\n",
       "\n",
       "    .dataframe tbody tr th {\n",
       "        vertical-align: top;\n",
       "    }\n",
       "\n",
       "    .dataframe thead tr th {\n",
       "        text-align: left;\n",
       "    }\n",
       "\n",
       "    .dataframe thead tr:last-of-type th {\n",
       "        text-align: right;\n",
       "    }\n",
       "</style>\n",
       "<table border=\"1\" class=\"dataframe\">\n",
       "  <thead>\n",
       "    <tr>\n",
       "      <th></th>\n",
       "      <th>loyal predicted</th>\n",
       "      <th>churn predicted</th>\n",
       "    </tr>\n",
       "    <tr>\n",
       "      <th>actual</th>\n",
       "      <th></th>\n",
       "      <th></th>\n",
       "    </tr>\n",
       "  </thead>\n",
       "  <tbody>\n",
       "    <tr>\n",
       "      <th>loyal</th>\n",
       "      <td>3218</td>\n",
       "      <td>102</td>\n",
       "    </tr>\n",
       "    <tr>\n",
       "      <th>churn</th>\n",
       "      <td>299</td>\n",
       "      <td>888</td>\n",
       "    </tr>\n",
       "  </tbody>\n",
       "</table>\n",
       "</div>"
      ],
      "text/plain": [
       "       loyal predicted churn predicted\n",
       "actual                                \n",
       "loyal             3218             102\n",
       "churn              299             888"
      ]
     },
     "execution_count": 21,
     "metadata": {},
     "output_type": "execute_result"
    }
   ],
   "source": [
    "labels = ['loyal', 'churn']\n",
    "predicted_labels = [name + \" predicted\" for name in labels ]\n",
    "conf = pd.DataFrame(confusion_matrix(y_train, y_pred_RF), index=labels, columns=[predicted_labels])\n",
    "conf.index.name = \"actual\"\n",
    "conf"
   ]
  },
  {
   "cell_type": "code",
   "execution_count": 22,
   "metadata": {},
   "outputs": [
    {
     "name": "stdout",
     "output_type": "stream",
     "text": [
      "              precision    recall  f1-score   support\n",
      "\n",
      "          No       0.91      0.97      0.94      3320\n",
      "         Yes       0.90      0.75      0.82      1187\n",
      "\n",
      "    accuracy                           0.91      4507\n",
      "   macro avg       0.91      0.86      0.88      4507\n",
      "weighted avg       0.91      0.91      0.91      4507\n",
      "\n"
     ]
    }
   ],
   "source": [
    "print(classification_report(y_train, y_pred_RF))"
   ]
  },
  {
   "cell_type": "code",
   "execution_count": 23,
   "metadata": {},
   "outputs": [
    {
     "name": "stdout",
     "output_type": "stream",
     "text": [
      "              precision    recall  f1-score   support\n",
      "\n",
      "          No       0.84      0.91      0.87       837\n",
      "         Yes       0.64      0.49      0.56       290\n",
      "\n",
      "    accuracy                           0.80      1127\n",
      "   macro avg       0.74      0.70      0.71      1127\n",
      "weighted avg       0.79      0.80      0.79      1127\n",
      "\n"
     ]
    }
   ],
   "source": [
    "# Is it overfit? --> Yes but the performance is similar to Logistic Regression and Decision Tree models\n",
    "y_pred_RFv = rf.predict(X_valid)\n",
    "\n",
    "print(classification_report(y_valid, y_pred_RFv))"
   ]
  },
  {
   "cell_type": "code",
   "execution_count": 24,
   "metadata": {},
   "outputs": [
    {
     "data": {
      "image/png": "[encoded data removed]",
      "text/plain": [
       "<Figure size 432x288 with 1 Axes>"
      ]
     },
     "metadata": {
      "needs_background": "light"
     },
     "output_type": "display_data"
    }
   ],
   "source": [
    "importances = rf.feature_importances_\n",
    "std = np.std([tree.feature_importances_ for tree in rf.estimators_],\n",
    "             axis=0)\n",
    "indices = np.argsort(importances)[::-1]\n",
    "\n",
    "# Plot the feature importances of the forest\n",
    "plt.figure()\n",
    "plt.title(\"Feature importances\")\n",
    "plt.bar(range(X_train.shape[1]), importances[indices],\n",
    "       color=\"r\", yerr=std[indices], align=\"center\")\n",
    "plt.xticks(range(X_train.shape[1]), indices)\n",
    "plt.xlim([-1, X_train.shape[1]])\n",
    "plt.show()"
   ]
  },
  {
   "cell_type": "code",
   "execution_count": 25,
   "metadata": {},
   "outputs": [
    {
     "data": {
      "text/plain": [
       "[('tenure', 0.12280420993803297),\n",
       " ('tenure_years', 0.12350134110751312),\n",
       " ('monthly_charges', 0.14095097469453027),\n",
       " ('total_charges', 0.12865928862931386),\n",
       " ('senior_citizen', 0.016403772355916547),\n",
       " ('gender_enc', 0.018095964808023016),\n",
       " ('family_support', 0.02613396467246059),\n",
       " ('phone_service_enc', 0.0038261278281416246),\n",
       " ('contract_type_id', 0.11480587071872032),\n",
       " ('internet_service_type_id', 0.035714884595462015),\n",
       " ('extra_lines', 0.01820442337276365),\n",
       " ('internet_services', 0.04782071003397601),\n",
       " ('has_internet', 0.017429235753835662),\n",
       " ('online_security_enc', 0.018317015103936372),\n",
       " ('online_backup_enc', 0.011904372178966595),\n",
       " ('device_protection_enc', 0.0109395052545129),\n",
       " ('tech_support_enc', 0.019481299539943736),\n",
       " ('streaming_tv_enc', 0.011642079916052667),\n",
       " ('streaming_movies_enc', 0.013234212262884626),\n",
       " ('paperless_billing_enc', 0.02542657934338206),\n",
       " ('pay_elec_check', 0.04120511929054693),\n",
       " ('pay_mail', 0.008144876351020935),\n",
       " ('pay_bank', 0.006247689591585312),\n",
       " ('pay_cc', 0.00640842839760472),\n",
       " ('pay_auto', 0.01269805426087353)]"
      ]
     },
     "execution_count": 25,
     "metadata": {},
     "output_type": "execute_result"
    }
   ],
   "source": [
    "list(zip(X_train.columns, rf.feature_importances_))"
   ]
  },
  {
   "cell_type": "code",
   "execution_count": 26,
   "metadata": {},
   "outputs": [],
   "source": [
    "# scaled model"
   ]
  },
  {
   "cell_type": "code",
   "execution_count": 27,
   "metadata": {},
   "outputs": [],
   "source": [
    "rf_s = RandomForestClassifier(bootstrap=True, class_weight=None, criterion='gini', \n",
    "                            min_samples_leaf=3, n_estimators=100, max_depth=20, random_state=123)\n",
    "\n",
    "rf_s.fit(X_train_scaled, y_train)\n",
    "y_pred_RFs = rf_s.predict(X_train_scaled)"
   ]
  },
  {
   "cell_type": "code",
   "execution_count": 28,
   "metadata": {},
   "outputs": [
    {
     "data": {
      "text/html": [
       "<div>\n",
       "<style scoped>\n",
       "    .dataframe tbody tr th:only-of-type {\n",
       "        vertical-align: middle;\n",
       "    }\n",
       "\n",
       "    .dataframe tbody tr th {\n",
       "        vertical-align: top;\n",
       "    }\n",
       "\n",
       "    .dataframe thead tr th {\n",
       "        text-align: left;\n",
       "    }\n",
       "\n",
       "    .dataframe thead tr:last-of-type th {\n",
       "        text-align: right;\n",
       "    }\n",
       "</style>\n",
       "<table border=\"1\" class=\"dataframe\">\n",
       "  <thead>\n",
       "    <tr>\n",
       "      <th></th>\n",
       "      <th>loyal predicted</th>\n",
       "      <th>churn predicted</th>\n",
       "    </tr>\n",
       "    <tr>\n",
       "      <th>actual</th>\n",
       "      <th></th>\n",
       "      <th></th>\n",
       "    </tr>\n",
       "  </thead>\n",
       "  <tbody>\n",
       "    <tr>\n",
       "      <th>loyal</th>\n",
       "      <td>3215</td>\n",
       "      <td>105</td>\n",
       "    </tr>\n",
       "    <tr>\n",
       "      <th>churn</th>\n",
       "      <td>327</td>\n",
       "      <td>860</td>\n",
       "    </tr>\n",
       "  </tbody>\n",
       "</table>\n",
       "</div>"
      ],
      "text/plain": [
       "       loyal predicted churn predicted\n",
       "actual                                \n",
       "loyal             3215             105\n",
       "churn              327             860"
      ]
     },
     "execution_count": 28,
     "metadata": {},
     "output_type": "execute_result"
    }
   ],
   "source": [
    "labels = ['loyal', 'churn']\n",
    "predicted_labels = [name + \" predicted\" for name in labels ]\n",
    "conf = pd.DataFrame(confusion_matrix(y_train, y_pred_RFs), index=labels, columns=[predicted_labels])\n",
    "conf.index.name = \"actual\"\n",
    "conf"
   ]
  },
  {
   "cell_type": "code",
   "execution_count": 29,
   "metadata": {},
   "outputs": [
    {
     "name": "stdout",
     "output_type": "stream",
     "text": [
      "              precision    recall  f1-score   support\n",
      "\n",
      "          No       0.91      0.97      0.94      3320\n",
      "         Yes       0.89      0.72      0.80      1187\n",
      "\n",
      "    accuracy                           0.90      4507\n",
      "   macro avg       0.90      0.85      0.87      4507\n",
      "weighted avg       0.90      0.90      0.90      4507\n",
      "\n"
     ]
    }
   ],
   "source": [
    "print(classification_report(y_train, y_pred_RFs))"
   ]
  },
  {
   "cell_type": "code",
   "execution_count": 30,
   "metadata": {},
   "outputs": [
    {
     "name": "stdout",
     "output_type": "stream",
     "text": [
      "              precision    recall  f1-score   support\n",
      "\n",
      "          No       0.84      0.91      0.87       837\n",
      "         Yes       0.66      0.51      0.57       290\n",
      "\n",
      "    accuracy                           0.81      1127\n",
      "   macro avg       0.75      0.71      0.72      1127\n",
      "weighted avg       0.80      0.81      0.80      1127\n",
      "\n"
     ]
    }
   ],
   "source": [
    "# Is it overfit? --> Yes but the performance is similar to Logistic Regression and Decision Tree models\n",
    "y_pred_RFvs = rf_s.predict(X_valid_scaled)\n",
    "\n",
    "print(classification_report(y_valid, y_pred_RFvs))"
   ]
  },
  {
   "cell_type": "code",
   "execution_count": 31,
   "metadata": {},
   "outputs": [
    {
     "data": {
      "image/png": "[encoded data removed]",
      "text/plain": [
       "<Figure size 432x288 with 1 Axes>"
      ]
     },
     "metadata": {
      "needs_background": "light"
     },
     "output_type": "display_data"
    }
   ],
   "source": [
    "importances = rf_s.feature_importances_\n",
    "std = np.std([tree.feature_importances_ for tree in rf_s.estimators_],\n",
    "             axis=0)\n",
    "indices = np.argsort(importances)[::-1]\n",
    "\n",
    "# Plot the feature importances of the forest\n",
    "plt.figure()\n",
    "plt.title(\"Feature importances\")\n",
    "plt.bar(range(X_train_scaled.shape[1]), importances[indices],\n",
    "       color=\"r\", yerr=std[indices], align=\"center\")\n",
    "plt.xticks(range(X_train_scaled.shape[1]), indices)\n",
    "plt.xlim([-1, X_train_scaled.shape[1]])\n",
    "plt.show()"
   ]
  },
  {
   "cell_type": "code",
   "execution_count": 32,
   "metadata": {},
   "outputs": [
    {
     "data": {
      "text/plain": [
       "[('tenure_nml', 0.15907516595711976),\n",
       " ('monthly_charges_nml', 0.13604128006431382),\n",
       " ('total_charges_nml', 0.15192849289736424),\n",
       " ('senior_citizen', 0.01669575890284111),\n",
       " ('gender_enc', 0.018609494498156395),\n",
       " ('family_support', 0.0308516783981805),\n",
       " ('phone_service_enc', 0.004543196884368864),\n",
       " ('contract_type_id', 0.126283948075012),\n",
       " ('internet_service_type_id', 0.04740033321729944),\n",
       " ('extra_lines', 0.020203386522878505),\n",
       " ('internet_services', 0.05267649213294427),\n",
       " ('has_internet', 0.022046563474864736),\n",
       " ('online_security_enc', 0.02516234028070242),\n",
       " ('online_backup_enc', 0.015138880294470254),\n",
       " ('device_protection_enc', 0.013602209996518686),\n",
       " ('tech_support_enc', 0.024585275417680488),\n",
       " ('streaming_tv_enc', 0.01163417653801195),\n",
       " ('streaming_movies_enc', 0.014070830002320614),\n",
       " ('paperless_billing_enc', 0.027333152246508598),\n",
       " ('pay_elec_check', 0.04537745499948813),\n",
       " ('pay_mail', 0.008130487360467243),\n",
       " ('pay_bank', 0.007137382981605195),\n",
       " ('pay_cc', 0.007095556814127704),\n",
       " ('pay_auto', 0.014376462042755198)]"
      ]
     },
     "execution_count": 32,
     "metadata": {},
     "output_type": "execute_result"
    }
   ],
   "source": [
    "list(zip(X_train_scaled.columns, rf_s.feature_importances_))"
   ]
  },
  {
   "cell_type": "markdown",
   "metadata": {},
   "source": [
    "## KNN Model"
   ]
  },
  {
   "cell_type": "code",
   "execution_count": 33,
   "metadata": {},
   "outputs": [],
   "source": [
    "knn = KNeighborsClassifier(n_neighbors=5, weights='uniform').fit(X_train, y_train)\n",
    "\n",
    "y_pred_knn = knn.predict(X_train)"
   ]
  },
  {
   "cell_type": "code",
   "execution_count": 34,
   "metadata": {},
   "outputs": [
    {
     "data": {
      "text/html": [
       "<div>\n",
       "<style scoped>\n",
       "    .dataframe tbody tr th:only-of-type {\n",
       "        vertical-align: middle;\n",
       "    }\n",
       "\n",
       "    .dataframe tbody tr th {\n",
       "        vertical-align: top;\n",
       "    }\n",
       "\n",
       "    .dataframe thead tr th {\n",
       "        text-align: left;\n",
       "    }\n",
       "\n",
       "    .dataframe thead tr:last-of-type th {\n",
       "        text-align: right;\n",
       "    }\n",
       "</style>\n",
       "<table border=\"1\" class=\"dataframe\">\n",
       "  <thead>\n",
       "    <tr>\n",
       "      <th></th>\n",
       "      <th>loyal predicted</th>\n",
       "      <th>churn predicted</th>\n",
       "    </tr>\n",
       "    <tr>\n",
       "      <th>actual</th>\n",
       "      <th></th>\n",
       "      <th></th>\n",
       "    </tr>\n",
       "  </thead>\n",
       "  <tbody>\n",
       "    <tr>\n",
       "      <th>loyal</th>\n",
       "      <td>3057</td>\n",
       "      <td>263</td>\n",
       "    </tr>\n",
       "    <tr>\n",
       "      <th>churn</th>\n",
       "      <td>512</td>\n",
       "      <td>675</td>\n",
       "    </tr>\n",
       "  </tbody>\n",
       "</table>\n",
       "</div>"
      ],
      "text/plain": [
       "       loyal predicted churn predicted\n",
       "actual                                \n",
       "loyal             3057             263\n",
       "churn              512             675"
      ]
     },
     "execution_count": 34,
     "metadata": {},
     "output_type": "execute_result"
    }
   ],
   "source": [
    "labels = ['loyal', 'churn']\n",
    "predicted_labels = [name + \" predicted\" for name in labels ]\n",
    "conf = pd.DataFrame(confusion_matrix(y_train, y_pred_knn), index=labels, columns=[predicted_labels])\n",
    "conf.index.name = \"actual\"\n",
    "conf"
   ]
  },
  {
   "cell_type": "code",
   "execution_count": 35,
   "metadata": {},
   "outputs": [
    {
     "name": "stdout",
     "output_type": "stream",
     "text": [
      "              precision    recall  f1-score   support\n",
      "\n",
      "          No       0.86      0.92      0.89      3320\n",
      "         Yes       0.72      0.57      0.64      1187\n",
      "\n",
      "    accuracy                           0.83      4507\n",
      "   macro avg       0.79      0.74      0.76      4507\n",
      "weighted avg       0.82      0.83      0.82      4507\n",
      "\n"
     ]
    }
   ],
   "source": [
    "print(classification_report(y_train, y_pred_knn))"
   ]
  },
  {
   "cell_type": "code",
   "execution_count": 36,
   "metadata": {},
   "outputs": [
    {
     "name": "stdout",
     "output_type": "stream",
     "text": [
      "              precision    recall  f1-score   support\n",
      "\n",
      "          No       0.81      0.89      0.85       837\n",
      "         Yes       0.56      0.40      0.47       290\n",
      "\n",
      "    accuracy                           0.76      1127\n",
      "   macro avg       0.68      0.65      0.66      1127\n",
      "weighted avg       0.75      0.76      0.75      1127\n",
      "\n"
     ]
    }
   ],
   "source": [
    "# Is it overfit? --> Yes\n",
    "y_pred_knnv = knn.predict(X_valid)\n",
    "\n",
    "print(classification_report(y_valid, y_pred_knnv))"
   ]
  },
  {
   "cell_type": "markdown",
   "metadata": {},
   "source": [
    "### KNN Model Scaled"
   ]
  },
  {
   "cell_type": "code",
   "execution_count": 37,
   "metadata": {},
   "outputs": [],
   "source": [
    "knn_s = KNeighborsClassifier(n_neighbors=5, weights='uniform').fit(X_train_scaled, y_train)\n",
    "\n",
    "y_pred_knns = knn_s.predict(X_train_scaled)"
   ]
  },
  {
   "cell_type": "code",
   "execution_count": 38,
   "metadata": {},
   "outputs": [
    {
     "data": {
      "text/html": [
       "<div>\n",
       "<style scoped>\n",
       "    .dataframe tbody tr th:only-of-type {\n",
       "        vertical-align: middle;\n",
       "    }\n",
       "\n",
       "    .dataframe tbody tr th {\n",
       "        vertical-align: top;\n",
       "    }\n",
       "\n",
       "    .dataframe thead tr th {\n",
       "        text-align: left;\n",
       "    }\n",
       "\n",
       "    .dataframe thead tr:last-of-type th {\n",
       "        text-align: right;\n",
       "    }\n",
       "</style>\n",
       "<table border=\"1\" class=\"dataframe\">\n",
       "  <thead>\n",
       "    <tr>\n",
       "      <th></th>\n",
       "      <th>loyal predicted</th>\n",
       "      <th>churn predicted</th>\n",
       "    </tr>\n",
       "    <tr>\n",
       "      <th>actual</th>\n",
       "      <th></th>\n",
       "      <th></th>\n",
       "    </tr>\n",
       "  </thead>\n",
       "  <tbody>\n",
       "    <tr>\n",
       "      <th>loyal</th>\n",
       "      <td>3051</td>\n",
       "      <td>269</td>\n",
       "    </tr>\n",
       "    <tr>\n",
       "      <th>churn</th>\n",
       "      <td>414</td>\n",
       "      <td>773</td>\n",
       "    </tr>\n",
       "  </tbody>\n",
       "</table>\n",
       "</div>"
      ],
      "text/plain": [
       "       loyal predicted churn predicted\n",
       "actual                                \n",
       "loyal             3051             269\n",
       "churn              414             773"
      ]
     },
     "execution_count": 38,
     "metadata": {},
     "output_type": "execute_result"
    }
   ],
   "source": [
    "labels = ['loyal', 'churn']\n",
    "predicted_labels = [name + \" predicted\" for name in labels ]\n",
    "conf = pd.DataFrame(confusion_matrix(y_train, y_pred_knns), index=labels, columns=[predicted_labels])\n",
    "conf.index.name = \"actual\"\n",
    "conf"
   ]
  },
  {
   "cell_type": "code",
   "execution_count": 39,
   "metadata": {},
   "outputs": [
    {
     "name": "stdout",
     "output_type": "stream",
     "text": [
      "              precision    recall  f1-score   support\n",
      "\n",
      "          No       0.88      0.92      0.90      3320\n",
      "         Yes       0.74      0.65      0.69      1187\n",
      "\n",
      "    accuracy                           0.85      4507\n",
      "   macro avg       0.81      0.79      0.80      4507\n",
      "weighted avg       0.84      0.85      0.85      4507\n",
      "\n"
     ]
    }
   ],
   "source": [
    "print(classification_report(y_train, y_pred_knns))"
   ]
  },
  {
   "cell_type": "code",
   "execution_count": 40,
   "metadata": {},
   "outputs": [
    {
     "name": "stdout",
     "output_type": "stream",
     "text": [
      "              precision    recall  f1-score   support\n",
      "\n",
      "          No       0.83      0.86      0.85       837\n",
      "         Yes       0.56      0.49      0.52       290\n",
      "\n",
      "    accuracy                           0.77      1127\n",
      "   macro avg       0.69      0.68      0.68      1127\n",
      "weighted avg       0.76      0.77      0.76      1127\n",
      "\n"
     ]
    }
   ],
   "source": [
    "# Is it overfit? --> Yes\n",
    "y_pred_knnvs = knn_s.predict(X_valid_scaled)\n",
    "\n",
    "print(classification_report(y_valid, y_pred_knnvs))"
   ]
  },
  {
   "cell_type": "code",
   "execution_count": 41,
   "metadata": {},
   "outputs": [],
   "source": [
    "# After all this, we like the Random Forest model best\n",
    "# Scaling the features makes no difference in model performance, so we won't use scaled features"
   ]
  },
  {
   "cell_type": "markdown",
   "metadata": {},
   "source": [
    "## Decide which features to use"
   ]
  },
  {
   "cell_type": "code",
   "execution_count": 42,
   "metadata": {},
   "outputs": [],
   "source": [
    "# We know tenure, monthly_charges and total_charges are important to the model\n",
    "# -- but how will it perform without those features?\n",
    "# This tells us which other features are meaningful\n",
    "\n",
    "X_train_2 = X_train.drop(columns=['tenure', 'monthly_charges', 'total_charges', 'tenure_years'])\n",
    "X_valid_2 = X_valid.drop(columns=['tenure', 'monthly_charges', 'total_charges', 'tenure_years'])"
   ]
  },
  {
   "cell_type": "code",
   "execution_count": 43,
   "metadata": {},
   "outputs": [],
   "source": [
    "rf2 = RandomForestClassifier(bootstrap=True, class_weight=None, criterion='gini', \n",
    "                            min_samples_leaf=3, n_estimators=100, max_depth=20, random_state=123)\n",
    "\n",
    "rf2.fit(X_train_2, y_train)\n",
    "y_pred_RF2 = rf2.predict(X_train_2)"
   ]
  },
  {
   "cell_type": "code",
   "execution_count": 44,
   "metadata": {},
   "outputs": [
    {
     "data": {
      "text/html": [
       "<div>\n",
       "<style scoped>\n",
       "    .dataframe tbody tr th:only-of-type {\n",
       "        vertical-align: middle;\n",
       "    }\n",
       "\n",
       "    .dataframe tbody tr th {\n",
       "        vertical-align: top;\n",
       "    }\n",
       "\n",
       "    .dataframe thead tr th {\n",
       "        text-align: left;\n",
       "    }\n",
       "\n",
       "    .dataframe thead tr:last-of-type th {\n",
       "        text-align: right;\n",
       "    }\n",
       "</style>\n",
       "<table border=\"1\" class=\"dataframe\">\n",
       "  <thead>\n",
       "    <tr>\n",
       "      <th></th>\n",
       "      <th>loyal predicted</th>\n",
       "      <th>churn predicted</th>\n",
       "    </tr>\n",
       "    <tr>\n",
       "      <th>actual</th>\n",
       "      <th></th>\n",
       "      <th></th>\n",
       "    </tr>\n",
       "  </thead>\n",
       "  <tbody>\n",
       "    <tr>\n",
       "      <th>loyal</th>\n",
       "      <td>3101</td>\n",
       "      <td>219</td>\n",
       "    </tr>\n",
       "    <tr>\n",
       "      <th>churn</th>\n",
       "      <td>473</td>\n",
       "      <td>714</td>\n",
       "    </tr>\n",
       "  </tbody>\n",
       "</table>\n",
       "</div>"
      ],
      "text/plain": [
       "       loyal predicted churn predicted\n",
       "actual                                \n",
       "loyal             3101             219\n",
       "churn              473             714"
      ]
     },
     "execution_count": 44,
     "metadata": {},
     "output_type": "execute_result"
    }
   ],
   "source": [
    "labels = ['loyal', 'churn']\n",
    "predicted_labels = [name + \" predicted\" for name in labels ]\n",
    "conf = pd.DataFrame(confusion_matrix(y_train, y_pred_RF2), index=labels, columns=[predicted_labels])\n",
    "conf.index.name = \"actual\"\n",
    "conf"
   ]
  },
  {
   "cell_type": "code",
   "execution_count": 45,
   "metadata": {},
   "outputs": [
    {
     "name": "stdout",
     "output_type": "stream",
     "text": [
      "              precision    recall  f1-score   support\n",
      "\n",
      "          No       0.87      0.93      0.90      3320\n",
      "         Yes       0.77      0.60      0.67      1187\n",
      "\n",
      "    accuracy                           0.85      4507\n",
      "   macro avg       0.82      0.77      0.79      4507\n",
      "weighted avg       0.84      0.85      0.84      4507\n",
      "\n"
     ]
    }
   ],
   "source": [
    "print(classification_report(y_train, y_pred_RF2))"
   ]
  },
  {
   "cell_type": "code",
   "execution_count": 46,
   "metadata": {},
   "outputs": [
    {
     "name": "stdout",
     "output_type": "stream",
     "text": [
      "              precision    recall  f1-score   support\n",
      "\n",
      "          No       0.82      0.89      0.86       837\n",
      "         Yes       0.59      0.43      0.50       290\n",
      "\n",
      "    accuracy                           0.78      1127\n",
      "   macro avg       0.70      0.66      0.68      1127\n",
      "weighted avg       0.76      0.78      0.76      1127\n",
      "\n"
     ]
    }
   ],
   "source": [
    "# Is it overfit? --> Yes but the performance is similar to Logistic Regression and Decision Tree models\n",
    "y_pred_RFv2 = rf2.predict(X_valid_2)\n",
    "\n",
    "print(classification_report(y_valid, y_pred_RFv2))"
   ]
  },
  {
   "cell_type": "code",
   "execution_count": 47,
   "metadata": {},
   "outputs": [
    {
     "data": {
      "image/png": "[encoded data removed]",
      "text/plain": [
       "<Figure size 432x288 with 1 Axes>"
      ]
     },
     "metadata": {
      "needs_background": "light"
     },
     "output_type": "display_data"
    }
   ],
   "source": [
    "importances = rf2.feature_importances_\n",
    "std = np.std([tree.feature_importances_ for tree in rf2.estimators_],\n",
    "             axis=0)\n",
    "indices = np.argsort(importances)[::-1]\n",
    "\n",
    "# Plot the feature importances of the forest\n",
    "plt.figure()\n",
    "plt.title(\"Feature importances\")\n",
    "plt.bar(range(X_train_2.shape[1]), importances[indices],\n",
    "       color=\"r\", yerr=std[indices], align=\"center\")\n",
    "plt.xticks(range(X_train_2.shape[1]), indices)\n",
    "plt.xlim([-1, X_train_2.shape[1]])\n",
    "plt.show()"
   ]
  },
  {
   "cell_type": "code",
   "execution_count": 48,
   "metadata": {},
   "outputs": [
    {
     "data": {
      "text/plain": [
       "[('senior_citizen', 0.03112286930778966),\n",
       " ('gender_enc', 0.03774324918961097),\n",
       " ('family_support', 0.0670351533935705),\n",
       " ('phone_service_enc', 0.008490415432637028),\n",
       " ('contract_type_id', 0.21177206118529515),\n",
       " ('internet_service_type_id', 0.08332965529940843),\n",
       " ('extra_lines', 0.04008485148038852),\n",
       " ('internet_services', 0.10654078766768181),\n",
       " ('has_internet', 0.032289436886230864),\n",
       " ('online_security_enc', 0.05414635758597596),\n",
       " ('online_backup_enc', 0.031515188421037565),\n",
       " ('device_protection_enc', 0.026965340301601227),\n",
       " ('tech_support_enc', 0.043942687262694624),\n",
       " ('streaming_tv_enc', 0.02384989669230043),\n",
       " ('streaming_movies_enc', 0.023717365390402464),\n",
       " ('paperless_billing_enc', 0.046832279630411734),\n",
       " ('pay_elec_check', 0.06920245204930357),\n",
       " ('pay_mail', 0.01157208203624663),\n",
       " ('pay_bank', 0.011952282898675717),\n",
       " ('pay_cc', 0.013582524862989422),\n",
       " ('pay_auto', 0.02431306302574773)]"
      ]
     },
     "execution_count": 48,
     "metadata": {},
     "output_type": "execute_result"
    }
   ],
   "source": [
    "list(zip(X_train_2.columns, rf2.feature_importances_))"
   ]
  },
  {
   "cell_type": "markdown",
   "metadata": {},
   "source": [
    "In order of importance, the top 10 are:\n",
    "        \n",
    "        1. contract_type_id\n",
    "        2. internet_services\n",
    "        3. internet_service_type_id\n",
    "        4. pay_elec_check\n",
    "        5. family_support\n",
    "        6. online_security_enc\n",
    "        7. extra_lines\n",
    "        8. paperless_billing_enc\n",
    "        9. has_internet\n",
    "        10. gender_enc\n",
    "\n",
    "Tenure and tenure_years are essentially the same info, but the model did slightly better with tenure_years, so that is the feature that will be included.\n",
    "\n",
    "## The model with reduced features will include:\n",
    " 1. total_charges\n",
    " 2. monthly_charges\n",
    " 3. tenure_years\n",
    " 4. contract_type_id\n",
    " 5. internet_services\n",
    " 6. internet_service_type_id\n",
    " 7. pay_elec_check\n",
    " 8. family_support\n",
    " 9. online_security_enc\n",
    " 10. extra_lines"
   ]
  },
  {
   "cell_type": "code",
   "execution_count": 49,
   "metadata": {},
   "outputs": [],
   "source": [
    "X_tr = df[['total_charges', 'monthly_charges', 'tenure_years', 'contract_type_id',\n",
    "           'internet_services', 'internet_service_type_id', 'pay_elec_check',\n",
    "           'family_support', 'online_security_enc', 'extra_lines']]\n",
    "X_v = valid[['total_charges', 'monthly_charges', 'tenure_years', 'contract_type_id',\n",
    "           'internet_services', 'internet_service_type_id', 'pay_elec_check',\n",
    "           'family_support', 'online_security_enc', 'extra_lines']]"
   ]
  },
  {
   "cell_type": "code",
   "execution_count": 50,
   "metadata": {},
   "outputs": [],
   "source": [
    "rf_f = RandomForestClassifier(bootstrap=True, class_weight=None, criterion='gini', \n",
    "                            min_samples_leaf=3, n_estimators=100, max_depth=20, random_state=123)\n",
    "\n",
    "rf_f.fit(X_tr, y_train)\n",
    "y_pred_RFf = rf_f.predict(X_tr)"
   ]
  },
  {
   "cell_type": "code",
   "execution_count": 51,
   "metadata": {},
   "outputs": [
    {
     "data": {
      "text/html": [
       "<div>\n",
       "<style scoped>\n",
       "    .dataframe tbody tr th:only-of-type {\n",
       "        vertical-align: middle;\n",
       "    }\n",
       "\n",
       "    .dataframe tbody tr th {\n",
       "        vertical-align: top;\n",
       "    }\n",
       "\n",
       "    .dataframe thead tr th {\n",
       "        text-align: left;\n",
       "    }\n",
       "\n",
       "    .dataframe thead tr:last-of-type th {\n",
       "        text-align: right;\n",
       "    }\n",
       "</style>\n",
       "<table border=\"1\" class=\"dataframe\">\n",
       "  <thead>\n",
       "    <tr>\n",
       "      <th></th>\n",
       "      <th>loyal predicted</th>\n",
       "      <th>churn predicted</th>\n",
       "    </tr>\n",
       "    <tr>\n",
       "      <th>actual</th>\n",
       "      <th></th>\n",
       "      <th></th>\n",
       "    </tr>\n",
       "  </thead>\n",
       "  <tbody>\n",
       "    <tr>\n",
       "      <th>loyal</th>\n",
       "      <td>3205</td>\n",
       "      <td>115</td>\n",
       "    </tr>\n",
       "    <tr>\n",
       "      <th>churn</th>\n",
       "      <td>311</td>\n",
       "      <td>876</td>\n",
       "    </tr>\n",
       "  </tbody>\n",
       "</table>\n",
       "</div>"
      ],
      "text/plain": [
       "       loyal predicted churn predicted\n",
       "actual                                \n",
       "loyal             3205             115\n",
       "churn              311             876"
      ]
     },
     "execution_count": 51,
     "metadata": {},
     "output_type": "execute_result"
    }
   ],
   "source": [
    "labels = ['loyal', 'churn']\n",
    "predicted_labels = [name + \" predicted\" for name in labels ]\n",
    "conf = pd.DataFrame(confusion_matrix(y_train, y_pred_RFf), index=labels, columns=[predicted_labels])\n",
    "conf.index.name = \"actual\"\n",
    "conf"
   ]
  },
  {
   "cell_type": "code",
   "execution_count": 52,
   "metadata": {},
   "outputs": [
    {
     "name": "stdout",
     "output_type": "stream",
     "text": [
      "              precision    recall  f1-score   support\n",
      "\n",
      "          No       0.91      0.97      0.94      3320\n",
      "         Yes       0.88      0.74      0.80      1187\n",
      "\n",
      "    accuracy                           0.91      4507\n",
      "   macro avg       0.90      0.85      0.87      4507\n",
      "weighted avg       0.90      0.91      0.90      4507\n",
      "\n"
     ]
    }
   ],
   "source": [
    "print(classification_report(y_train, y_pred_RFf))"
   ]
  },
  {
   "cell_type": "code",
   "execution_count": 53,
   "metadata": {},
   "outputs": [
    {
     "name": "stdout",
     "output_type": "stream",
     "text": [
      "              precision    recall  f1-score   support\n",
      "\n",
      "          No       0.84      0.90      0.87       837\n",
      "         Yes       0.63      0.50      0.56       290\n",
      "\n",
      "    accuracy                           0.80      1127\n",
      "   macro avg       0.74      0.70      0.71      1127\n",
      "weighted avg       0.79      0.80      0.79      1127\n",
      "\n"
     ]
    }
   ],
   "source": [
    "# Is it overfit? --> Yes but the performance is similar to Logistic Regression and Decision Tree models\n",
    "y_pred_RFfv = rf_f.predict(X_v)\n",
    "\n",
    "print(classification_report(y_valid, y_pred_RFfv))"
   ]
  },
  {
   "cell_type": "code",
   "execution_count": 54,
   "metadata": {},
   "outputs": [
    {
     "data": {
      "image/png": "[encoded data removed]",
      "text/plain": [
       "<Figure size 432x288 with 1 Axes>"
      ]
     },
     "metadata": {
      "needs_background": "light"
     },
     "output_type": "display_data"
    }
   ],
   "source": [
    "importances = rf_f.feature_importances_\n",
    "std = np.std([tree.feature_importances_ for tree in rf_f.estimators_],\n",
    "             axis=0)\n",
    "indices = np.argsort(importances)[::-1]\n",
    "\n",
    "# Plot the feature importances of the forest\n",
    "plt.figure()\n",
    "plt.title(\"Feature importances\")\n",
    "plt.bar(range(X_tr.shape[1]), importances[indices],\n",
    "       color=\"r\", yerr=std[indices], align=\"center\")\n",
    "plt.xticks(range(X_tr.shape[1]), indices)\n",
    "plt.xlim([-1, X_tr.shape[1]])\n",
    "plt.show()"
   ]
  },
  {
   "cell_type": "code",
   "execution_count": 55,
   "metadata": {},
   "outputs": [
    {
     "data": {
      "text/plain": [
       "[('total_charges', 0.20571611329626388),\n",
       " ('monthly_charges', 0.2127262895249699),\n",
       " ('tenure_years', 0.19106735944245057),\n",
       " ('contract_type_id', 0.14594000029984086),\n",
       " ('internet_services', 0.061162350941248035),\n",
       " ('internet_service_type_id', 0.04810515763243134),\n",
       " ('pay_elec_check', 0.054640636795626495),\n",
       " ('family_support', 0.03429081863667017),\n",
       " ('online_security_enc', 0.02203414445573432),\n",
       " ('extra_lines', 0.024317128974764415)]"
      ]
     },
     "execution_count": 55,
     "metadata": {},
     "output_type": "execute_result"
    }
   ],
   "source": [
    "list(zip(X_tr.columns, rf_f.feature_importances_))"
   ]
  },
  {
   "cell_type": "markdown",
   "metadata": {},
   "source": [
    "# Function Testing"
   ]
  },
  {
   "cell_type": "code",
   "execution_count": 56,
   "metadata": {},
   "outputs": [],
   "source": [
    "# Functions to be tested here\n",
    "\n",
    "def model_maker(X, y, model_type, random_state):\n",
    "    if model_type == 'LR':\n",
    "        model = LogisticRegression(random_state=random_state)\n",
    "        return model.fit(X, y)\n",
    "    elif model_type == 'DT':\n",
    "        model = DecisionTreeClassifier(criterion='entropy', max_depth=5, random_state=random_state)\n",
    "        return model.fit(X, y)\n",
    "    elif model_type == 'RF':\n",
    "        model = RandomForestClassifier(bootstrap=True, class_weight=None, criterion='gini', \n",
    "                                       min_samples_leaf=3, n_estimators=100, max_depth=20, random_state=random_state)\n",
    "        return model.fit(X, y)\n",
    "    else:\n",
    "        return print (\"unacceptable model_type entry. options are: LR, DT or RF\")\n",
    "     \n",
    "def model_predictor(X, model):\n",
    "    predictions = model.predict(X)\n",
    "    # Calulate probabilities and turn them into a df\n",
    "    probs = model.predict_proba(X)\n",
    "    return predictions, probs\n",
    "    \n",
    "def model_evaluator(y, predictions):    \n",
    "    # Confusion Matrix\n",
    "    labels = ['loyal', 'churn']\n",
    "    predicted_labels = [name + \" predicted\" for name in labels ]\n",
    "    conf_matrix = pd.DataFrame(confusion_matrix(y, predictions), index=labels, columns=[predicted_labels])\n",
    "    conf_matrix.index.name = \"actual\"\n",
    "    # Classification Report\n",
    "    class_report = classification_report(y, predictions)\n",
    "    return conf_matrix, class_report"
   ]
  },
  {
   "cell_type": "code",
   "execution_count": 57,
   "metadata": {},
   "outputs": [
    {
     "name": "stdout",
     "output_type": "stream",
     "text": [
      "              precision    recall  f1-score   support\n",
      "\n",
      "          No       0.81      0.94      0.87      3320\n",
      "         Yes       0.70      0.39      0.50      1187\n",
      "\n",
      "    accuracy                           0.80      4507\n",
      "   macro avg       0.76      0.67      0.69      4507\n",
      "weighted avg       0.78      0.80      0.77      4507\n",
      "\n"
     ]
    }
   ],
   "source": [
    "DT_model = model_maker(X_tr, y_train, 'DT', 824)\n",
    "DT_preds, DT_probs = model_predictor(X_tr, DT_model)\n",
    "DT_conf, DT_report = model_evaluator(y_train, DT_preds)\n",
    "print (DT_report)"
   ]
  },
  {
   "cell_type": "code",
   "execution_count": 58,
   "metadata": {},
   "outputs": [
    {
     "name": "stdout",
     "output_type": "stream",
     "text": [
      "              precision    recall  f1-score   support\n",
      "\n",
      "          No       0.81      0.96      0.87       837\n",
      "         Yes       0.73      0.34      0.46       290\n",
      "\n",
      "    accuracy                           0.80      1127\n",
      "   macro avg       0.77      0.65      0.67      1127\n",
      "weighted avg       0.79      0.80      0.77      1127\n",
      "\n"
     ]
    }
   ],
   "source": [
    "DTv_preds, DTv_probs = model_predictor(X_v, DT_model)\n",
    "DTv_conf, DTv_report = model_evaluator(y_valid, DTv_preds)\n",
    "print (DTv_report)"
   ]
  },
  {
   "cell_type": "code",
   "execution_count": 59,
   "metadata": {},
   "outputs": [
    {
     "data": {
      "text/html": [
       "<div>\n",
       "<style scoped>\n",
       "    .dataframe tbody tr th:only-of-type {\n",
       "        vertical-align: middle;\n",
       "    }\n",
       "\n",
       "    .dataframe tbody tr th {\n",
       "        vertical-align: top;\n",
       "    }\n",
       "\n",
       "    .dataframe thead tr th {\n",
       "        text-align: left;\n",
       "    }\n",
       "\n",
       "    .dataframe thead tr:last-of-type th {\n",
       "        text-align: right;\n",
       "    }\n",
       "</style>\n",
       "<table border=\"1\" class=\"dataframe\">\n",
       "  <thead>\n",
       "    <tr>\n",
       "      <th></th>\n",
       "      <th>loyal predicted</th>\n",
       "      <th>churn predicted</th>\n",
       "    </tr>\n",
       "    <tr>\n",
       "      <th>actual</th>\n",
       "      <th></th>\n",
       "      <th></th>\n",
       "    </tr>\n",
       "  </thead>\n",
       "  <tbody>\n",
       "    <tr>\n",
       "      <th>loyal</th>\n",
       "      <td>3123</td>\n",
       "      <td>197</td>\n",
       "    </tr>\n",
       "    <tr>\n",
       "      <th>churn</th>\n",
       "      <td>722</td>\n",
       "      <td>465</td>\n",
       "    </tr>\n",
       "  </tbody>\n",
       "</table>\n",
       "</div>"
      ],
      "text/plain": [
       "       loyal predicted churn predicted\n",
       "actual                                \n",
       "loyal             3123             197\n",
       "churn              722             465"
      ]
     },
     "execution_count": 59,
     "metadata": {},
     "output_type": "execute_result"
    }
   ],
   "source": [
    "DT_conf"
   ]
  },
  {
   "cell_type": "code",
   "execution_count": 60,
   "metadata": {},
   "outputs": [
    {
     "data": {
      "text/html": [
       "<div>\n",
       "<style scoped>\n",
       "    .dataframe tbody tr th:only-of-type {\n",
       "        vertical-align: middle;\n",
       "    }\n",
       "\n",
       "    .dataframe tbody tr th {\n",
       "        vertical-align: top;\n",
       "    }\n",
       "\n",
       "    .dataframe thead tr th {\n",
       "        text-align: left;\n",
       "    }\n",
       "\n",
       "    .dataframe thead tr:last-of-type th {\n",
       "        text-align: right;\n",
       "    }\n",
       "</style>\n",
       "<table border=\"1\" class=\"dataframe\">\n",
       "  <thead>\n",
       "    <tr>\n",
       "      <th></th>\n",
       "      <th>loyal predicted</th>\n",
       "      <th>churn predicted</th>\n",
       "    </tr>\n",
       "    <tr>\n",
       "      <th>actual</th>\n",
       "      <th></th>\n",
       "      <th></th>\n",
       "    </tr>\n",
       "  </thead>\n",
       "  <tbody>\n",
       "    <tr>\n",
       "      <th>loyal</th>\n",
       "      <td>800</td>\n",
       "      <td>37</td>\n",
       "    </tr>\n",
       "    <tr>\n",
       "      <th>churn</th>\n",
       "      <td>192</td>\n",
       "      <td>98</td>\n",
       "    </tr>\n",
       "  </tbody>\n",
       "</table>\n",
       "</div>"
      ],
      "text/plain": [
       "       loyal predicted churn predicted\n",
       "actual                                \n",
       "loyal              800              37\n",
       "churn              192              98"
      ]
     },
     "execution_count": 60,
     "metadata": {},
     "output_type": "execute_result"
    }
   ],
   "source": [
    "DTv_conf"
   ]
  },
  {
   "cell_type": "markdown",
   "metadata": {},
   "source": [
    "# Model evaluation"
   ]
  },
  {
   "cell_type": "code",
   "execution_count": 61,
   "metadata": {},
   "outputs": [
    {
     "data": {
      "text/plain": [
       "No     3320\n",
       "Yes    1187\n",
       "Name: churn, dtype: int64"
      ]
     },
     "execution_count": 61,
     "metadata": {},
     "output_type": "execute_result"
    }
   ],
   "source": [
    "# Baseline for model evaluation is the most frequent value in the churn column\n",
    "y_train.churn.value_counts()"
   ]
  },
  {
   "cell_type": "code",
   "execution_count": 62,
   "metadata": {},
   "outputs": [
    {
     "data": {
      "text/html": [
       "<div>\n",
       "<style scoped>\n",
       "    .dataframe tbody tr th:only-of-type {\n",
       "        vertical-align: middle;\n",
       "    }\n",
       "\n",
       "    .dataframe tbody tr th {\n",
       "        vertical-align: top;\n",
       "    }\n",
       "\n",
       "    .dataframe thead th {\n",
       "        text-align: right;\n",
       "    }\n",
       "</style>\n",
       "<table border=\"1\" class=\"dataframe\">\n",
       "  <thead>\n",
       "    <tr style=\"text-align: right;\">\n",
       "      <th></th>\n",
       "      <th>actual</th>\n",
       "      <th>baseline</th>\n",
       "    </tr>\n",
       "  </thead>\n",
       "  <tbody>\n",
       "    <tr>\n",
       "      <th>0</th>\n",
       "      <td>No</td>\n",
       "      <td>No</td>\n",
       "    </tr>\n",
       "    <tr>\n",
       "      <th>1</th>\n",
       "      <td>Yes</td>\n",
       "      <td>No</td>\n",
       "    </tr>\n",
       "    <tr>\n",
       "      <th>2</th>\n",
       "      <td>Yes</td>\n",
       "      <td>No</td>\n",
       "    </tr>\n",
       "    <tr>\n",
       "      <th>3</th>\n",
       "      <td>No</td>\n",
       "      <td>No</td>\n",
       "    </tr>\n",
       "    <tr>\n",
       "      <th>4</th>\n",
       "      <td>No</td>\n",
       "      <td>No</td>\n",
       "    </tr>\n",
       "  </tbody>\n",
       "</table>\n",
       "</div>"
      ],
      "text/plain": [
       "  actual baseline\n",
       "0     No       No\n",
       "1    Yes       No\n",
       "2    Yes       No\n",
       "3     No       No\n",
       "4     No       No"
      ]
     },
     "execution_count": 62,
     "metadata": {},
     "output_type": "execute_result"
    }
   ],
   "source": [
    "# Create prediction evaluations dataframe to compare models to baseline\n",
    "predictions = pd.DataFrame({\n",
    "    'actual': y_train.churn,\n",
    "    'baseline': 'No',\n",
    "})\n",
    "predictions.head()"
   ]
  },
  {
   "cell_type": "code",
   "execution_count": 63,
   "metadata": {},
   "outputs": [],
   "source": [
    "predictions['LinearRegression'] = y_pred_LR\n",
    "predictions['DecisionTree'] = y_pred_DT\n",
    "predictions['RandomForest'] = y_pred_RF"
   ]
  },
  {
   "cell_type": "code",
   "execution_count": 64,
   "metadata": {},
   "outputs": [
    {
     "data": {
      "text/html": [
       "<div>\n",
       "<style scoped>\n",
       "    .dataframe tbody tr th:only-of-type {\n",
       "        vertical-align: middle;\n",
       "    }\n",
       "\n",
       "    .dataframe tbody tr th {\n",
       "        vertical-align: top;\n",
       "    }\n",
       "\n",
       "    .dataframe thead th {\n",
       "        text-align: right;\n",
       "    }\n",
       "</style>\n",
       "<table border=\"1\" class=\"dataframe\">\n",
       "  <thead>\n",
       "    <tr style=\"text-align: right;\">\n",
       "      <th></th>\n",
       "      <th>actual</th>\n",
       "      <th>baseline</th>\n",
       "      <th>LinearRegression</th>\n",
       "      <th>DecisionTree</th>\n",
       "      <th>RandomForest</th>\n",
       "    </tr>\n",
       "  </thead>\n",
       "  <tbody>\n",
       "    <tr>\n",
       "      <th>0</th>\n",
       "      <td>No</td>\n",
       "      <td>No</td>\n",
       "      <td>Yes</td>\n",
       "      <td>No</td>\n",
       "      <td>No</td>\n",
       "    </tr>\n",
       "    <tr>\n",
       "      <th>1</th>\n",
       "      <td>Yes</td>\n",
       "      <td>No</td>\n",
       "      <td>Yes</td>\n",
       "      <td>Yes</td>\n",
       "      <td>Yes</td>\n",
       "    </tr>\n",
       "    <tr>\n",
       "      <th>2</th>\n",
       "      <td>Yes</td>\n",
       "      <td>No</td>\n",
       "      <td>No</td>\n",
       "      <td>No</td>\n",
       "      <td>Yes</td>\n",
       "    </tr>\n",
       "    <tr>\n",
       "      <th>3</th>\n",
       "      <td>No</td>\n",
       "      <td>No</td>\n",
       "      <td>No</td>\n",
       "      <td>No</td>\n",
       "      <td>No</td>\n",
       "    </tr>\n",
       "    <tr>\n",
       "      <th>4</th>\n",
       "      <td>No</td>\n",
       "      <td>No</td>\n",
       "      <td>Yes</td>\n",
       "      <td>Yes</td>\n",
       "      <td>Yes</td>\n",
       "    </tr>\n",
       "  </tbody>\n",
       "</table>\n",
       "</div>"
      ],
      "text/plain": [
       "  actual baseline LinearRegression DecisionTree RandomForest\n",
       "0     No       No              Yes           No           No\n",
       "1    Yes       No              Yes          Yes          Yes\n",
       "2    Yes       No               No           No          Yes\n",
       "3     No       No               No           No           No\n",
       "4     No       No              Yes          Yes          Yes"
      ]
     },
     "execution_count": 64,
     "metadata": {},
     "output_type": "execute_result"
    }
   ],
   "source": [
    "predictions.head()"
   ]
  },
  {
   "cell_type": "markdown",
   "metadata": {},
   "source": [
    "## Test the chosen model on out-of-sample data\n",
    "\n",
    "#### Chosen Model: Decision Tree w/ all variables\n",
    "    - Chosen because there was not much benefit to the model with reduced variables"
   ]
  },
  {
   "cell_type": "code",
   "execution_count": 69,
   "metadata": {},
   "outputs": [],
   "source": [
    "test = pd.read_csv('test.csv')\n",
    "\n",
    "X_train = df.drop(columns=['churn', 'Unnamed: 0', 'customer_id', 'tenure_nml', 'monthly_charges_nml', 'total_charges_nml', 'churn_enc'])\n",
    "X_valid = valid.drop(columns=['churn', 'Unnamed: 0', 'customer_id', 'tenure_nml', 'monthly_charges_nml', 'total_charges_nml', 'churn_enc'])\n",
    "X_test = test.drop(columns=['churn', 'Unnamed: 0', 'customer_id', 'tenure_nml', 'monthly_charges_nml', 'total_charges_nml', 'churn_enc'])\n",
    "\n",
    "y_train = df.churn\n",
    "y_valid = valid.churn\n",
    "y_test = test.churn"
   ]
  },
  {
   "cell_type": "code",
   "execution_count": 70,
   "metadata": {},
   "outputs": [
    {
     "name": "stdout",
     "output_type": "stream",
     "text": [
      "              precision    recall  f1-score   support\n",
      "\n",
      "          No       0.81      0.94      0.87      3320\n",
      "         Yes       0.70      0.40      0.51      1187\n",
      "\n",
      "    accuracy                           0.80      4507\n",
      "   macro avg       0.76      0.67      0.69      4507\n",
      "weighted avg       0.78      0.80      0.78      4507\n",
      "\n"
     ]
    }
   ],
   "source": [
    "DT_model = model_maker(X_train, y_train, 'DT', 824)\n",
    "DT_preds, DT_probs = model_predictor(X_train, DT_model)\n",
    "DT_conf, DT_report = model_evaluator(y_train, DT_preds)\n",
    "print (DT_report)"
   ]
  },
  {
   "cell_type": "code",
   "execution_count": 72,
   "metadata": {},
   "outputs": [
    {
     "data": {
      "text/html": [
       "<div>\n",
       "<style scoped>\n",
       "    .dataframe tbody tr th:only-of-type {\n",
       "        vertical-align: middle;\n",
       "    }\n",
       "\n",
       "    .dataframe tbody tr th {\n",
       "        vertical-align: top;\n",
       "    }\n",
       "\n",
       "    .dataframe thead tr th {\n",
       "        text-align: left;\n",
       "    }\n",
       "\n",
       "    .dataframe thead tr:last-of-type th {\n",
       "        text-align: right;\n",
       "    }\n",
       "</style>\n",
       "<table border=\"1\" class=\"dataframe\">\n",
       "  <thead>\n",
       "    <tr>\n",
       "      <th></th>\n",
       "      <th>loyal predicted</th>\n",
       "      <th>churn predicted</th>\n",
       "    </tr>\n",
       "    <tr>\n",
       "      <th>actual</th>\n",
       "      <th></th>\n",
       "      <th></th>\n",
       "    </tr>\n",
       "  </thead>\n",
       "  <tbody>\n",
       "    <tr>\n",
       "      <th>loyal</th>\n",
       "      <td>3118</td>\n",
       "      <td>202</td>\n",
       "    </tr>\n",
       "    <tr>\n",
       "      <th>churn</th>\n",
       "      <td>714</td>\n",
       "      <td>473</td>\n",
       "    </tr>\n",
       "  </tbody>\n",
       "</table>\n",
       "</div>"
      ],
      "text/plain": [
       "       loyal predicted churn predicted\n",
       "actual                                \n",
       "loyal             3118             202\n",
       "churn              714             473"
      ]
     },
     "execution_count": 72,
     "metadata": {},
     "output_type": "execute_result"
    }
   ],
   "source": [
    "DT_conf"
   ]
  },
  {
   "cell_type": "code",
   "execution_count": 71,
   "metadata": {},
   "outputs": [
    {
     "name": "stdout",
     "output_type": "stream",
     "text": [
      "              precision    recall  f1-score   support\n",
      "\n",
      "          No       0.81      0.95      0.87       837\n",
      "         Yes       0.72      0.34      0.46       290\n",
      "\n",
      "    accuracy                           0.80      1127\n",
      "   macro avg       0.76      0.65      0.67      1127\n",
      "weighted avg       0.78      0.80      0.77      1127\n",
      "\n"
     ]
    }
   ],
   "source": [
    "# Test model performance on validation data\n",
    "DTv_preds, DTv_probs = model_predictor(X_valid, DT_model)\n",
    "DTv_conf, DTv_report = model_evaluator(y_valid, DTv_preds)\n",
    "print (DTv_report)"
   ]
  },
  {
   "cell_type": "code",
   "execution_count": 73,
   "metadata": {},
   "outputs": [
    {
     "data": {
      "text/html": [
       "<div>\n",
       "<style scoped>\n",
       "    .dataframe tbody tr th:only-of-type {\n",
       "        vertical-align: middle;\n",
       "    }\n",
       "\n",
       "    .dataframe tbody tr th {\n",
       "        vertical-align: top;\n",
       "    }\n",
       "\n",
       "    .dataframe thead tr th {\n",
       "        text-align: left;\n",
       "    }\n",
       "\n",
       "    .dataframe thead tr:last-of-type th {\n",
       "        text-align: right;\n",
       "    }\n",
       "</style>\n",
       "<table border=\"1\" class=\"dataframe\">\n",
       "  <thead>\n",
       "    <tr>\n",
       "      <th></th>\n",
       "      <th>loyal predicted</th>\n",
       "      <th>churn predicted</th>\n",
       "    </tr>\n",
       "    <tr>\n",
       "      <th>actual</th>\n",
       "      <th></th>\n",
       "      <th></th>\n",
       "    </tr>\n",
       "  </thead>\n",
       "  <tbody>\n",
       "    <tr>\n",
       "      <th>loyal</th>\n",
       "      <td>798</td>\n",
       "      <td>39</td>\n",
       "    </tr>\n",
       "    <tr>\n",
       "      <th>churn</th>\n",
       "      <td>192</td>\n",
       "      <td>98</td>\n",
       "    </tr>\n",
       "  </tbody>\n",
       "</table>\n",
       "</div>"
      ],
      "text/plain": [
       "       loyal predicted churn predicted\n",
       "actual                                \n",
       "loyal              798              39\n",
       "churn              192              98"
      ]
     },
     "execution_count": 73,
     "metadata": {},
     "output_type": "execute_result"
    }
   ],
   "source": [
    "DTv_conf"
   ]
  },
  {
   "cell_type": "code",
   "execution_count": 74,
   "metadata": {},
   "outputs": [
    {
     "name": "stdout",
     "output_type": "stream",
     "text": [
      "              precision    recall  f1-score   support\n",
      "\n",
      "          No       0.79      0.94      0.86      1017\n",
      "         Yes       0.69      0.36      0.47       392\n",
      "\n",
      "    accuracy                           0.78      1409\n",
      "   macro avg       0.74      0.65      0.67      1409\n",
      "weighted avg       0.76      0.78      0.75      1409\n",
      "\n"
     ]
    }
   ],
   "source": [
    "# Test model performance on out-of-sample data\n",
    "DTt_preds, DTt_probs = model_predictor(X_test, DT_model)\n",
    "DTt_conf, DTt_report = model_evaluator(y_test, DTt_preds)\n",
    "print (DTt_report)"
   ]
  },
  {
   "cell_type": "code",
   "execution_count": null,
   "metadata": {},
   "outputs": [],
   "source": []
  }
 ],
 "metadata": {
  "kernelspec": {
   "display_name": "Python 3",
   "language": "python",
   "name": "python3"
  },
  "language_info": {
   "codemirror_mode": {
    "name": "ipython",
    "version": 3
   },
   "file_extension": ".py",
   "mimetype": "text/x-python",
   "name": "python",
   "nbconvert_exporter": "python",
   "pygments_lexer": "ipython3",
   "version": "3.7.4"
  }
 },
 "nbformat": 4,
 "nbformat_minor": 4
}
