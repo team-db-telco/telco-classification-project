{
 "cells": [
  {
   "cell_type": "code",
   "execution_count": 1,
   "metadata": {},
   "outputs": [],
   "source": [
    "import acquire\n",
    "import explore\n",
    "import model\n",
    "\n",
    "import numpy as np\n",
    "import pandas as pd\n",
    "pd.options.display.float_format = '{:.3f}'.format\n",
    "import warnings\n",
    "warnings.filterwarnings(\"ignore\")\n",
    "\n",
    "import matplotlib.pyplot as plt\n",
    "import seaborn as sns"
   ]
  },
  {
   "cell_type": "markdown",
   "metadata": {},
   "source": [
    "# Big Question: Why are our customers churning?\n",
    "\n",
    "## Hypotheses:\n",
    "1. Tenure Cohorts\n",
    "    - $H_0$: There are no tenure cohort with a higher propensity to churn than others\n",
    "    - $H_a$: There is a cohort with a higher propensity to churn\n",
    "2. Features w/ higher churn rate\n",
    "    - $H_0$: There are no features with a higher churn rate than others\n",
    "    - $H_a$: There is at least one feature with a higher churn rate\n",
    "3. Price threshold with higher churn rate\n",
    "    - $H_0$: There is no price threshold for specific services where the likelihood of churn increases\n",
    "    - $H_a$: Higher price services are more likeley to churn\n",
    "4. Month-to-month customers after the 12th month anD 1-year contract customers after the 12th month, are those rates comparable?\n",
    "    - $H_0$: Month-to-month customers and 1-year contract customers are equally likely to churn after the 12th month\n",
    "    - $H_a$: Month-to-month customers are more likely to churn after the 12th month than 1-year contract customers\n",
    "\n",
    "## Acquire and Prep Data\n",
    " - See acquire.py and prepare.py for details\n",
    " - Produces train, valid & test .csv files"
   ]
  },
  {
   "cell_type": "code",
   "execution_count": 2,
   "metadata": {},
   "outputs": [],
   "source": [
    "train = pd.read_csv('train.csv')\n",
    "valid = pd.read_csv('valid.csv')\n",
    "test = pd.read_csv('test.csv')"
   ]
  },
  {
   "cell_type": "markdown",
   "metadata": {},
   "source": [
    "## Explore Train Data"
   ]
  },
  {
   "cell_type": "markdown",
   "metadata": {},
   "source": [
    "1. Tenure Cohorts\n",
    "    - $H_0$: There are no tenure cohort with a higher propensity to churn than others\n",
    "    - $H_a$: There is a cohort with a higher propensity to churn"
   ]
  },
  {
   "cell_type": "code",
   "execution_count": null,
   "metadata": {},
   "outputs": [],
   "source": []
  },
  {
   "cell_type": "markdown",
   "metadata": {},
   "source": [
    "2. Features w/ higher churn rate\n",
    "    - $H_0$: There are no features with a higher churn rate than others\n",
    "    - $H_a$: There is at least one feature with a higher churn rate"
   ]
  },
  {
   "cell_type": "code",
   "execution_count": null,
   "metadata": {},
   "outputs": [],
   "source": []
  },
  {
   "cell_type": "markdown",
   "metadata": {},
   "source": [
    "3. Price threshold with higher churn rate\n",
    "    - $H_0$: There is no price threshold for specific services where the likelihood of churn increases\n",
    "    - $H_a$: Higher price services are more likeley to churn"
   ]
  },
  {
   "cell_type": "code",
   "execution_count": null,
   "metadata": {},
   "outputs": [],
   "source": []
  },
  {
   "cell_type": "markdown",
   "metadata": {},
   "source": [
    "4. Month-to-month customers after the 12th month anD 1-year contract customers after the 12th month, are those rates comparable?\n",
    "    - $H_0$: Month-to-month customers and 1-year contract customers are equally likely to churn after the 12th month\n",
    "    - $H_a$: Month-to-month customers are more likely to churn after the 12th month than 1-year contract customers"
   ]
  },
  {
   "cell_type": "code",
   "execution_count": null,
   "metadata": {},
   "outputs": [],
   "source": []
  },
  {
   "cell_type": "markdown",
   "metadata": {},
   "source": [
    "## Create Predictions Using Decision Tree Model"
   ]
  },
  {
   "cell_type": "markdown",
   "metadata": {},
   "source": [
    "> During the modeling phase, we found that not all the features were as important to the model as others, however, the overall performance of the model was not significantly improved by dropping them - it actually dropped a small amount. Therefore, this model will include all the features, so as to get more nuance.\n",
    "\n",
    "> Additionally, the model's performance was not significantly enhanced by scaling the features, so this model will be built with the original features.\n",
    "\n",
    "> Finally, we will us the Decision Tree classifier to model this dataset, because the performance on the validation dataset was similar to the performance of the other models, but the output of the decision tree is more interpretable."
   ]
  },
  {
   "cell_type": "code",
   "execution_count": 3,
   "metadata": {},
   "outputs": [],
   "source": [
    "X_train = train.drop(columns=['churn', 'Unnamed: 0', 'customer_id', 'tenure_nml', 'monthly_charges_nml', 'total_charges_nml', 'churn_enc'])\n",
    "X_valid = valid.drop(columns=['churn', 'Unnamed: 0', 'customer_id', 'tenure_nml', 'monthly_charges_nml', 'total_charges_nml', 'churn_enc'])\n",
    "X_test = test.drop(columns=['churn', 'Unnamed: 0', 'customer_id', 'tenure_nml', 'monthly_charges_nml', 'total_charges_nml', 'churn_enc'])\n",
    "\n",
    "y_train = train.churn\n",
    "y_valid = valid.churn\n",
    "y_test = test.churn"
   ]
  },
  {
   "cell_type": "code",
   "execution_count": 4,
   "metadata": {},
   "outputs": [
    {
     "name": "stdout",
     "output_type": "stream",
     "text": [
      "              precision    recall  f1-score   support\n",
      "\n",
      "          No       0.81      0.94      0.87      3320\n",
      "         Yes       0.70      0.40      0.51      1187\n",
      "\n",
      "    accuracy                           0.80      4507\n",
      "   macro avg       0.76      0.67      0.69      4507\n",
      "weighted avg       0.78      0.80      0.78      4507\n",
      "\n"
     ]
    }
   ],
   "source": [
    "# Make the model\n",
    "DT_model = model.model_maker(X_train, y_train, 'DT', 143)\n",
    "DT_preds, DT_probs = model.model_predictor(X_train, DT_model)\n",
    "DT_conf, DT_report = model.model_evaluator(y_train, DT_preds)\n",
    "print (DT_report)"
   ]
  },
  {
   "cell_type": "code",
   "execution_count": 5,
   "metadata": {},
   "outputs": [
    {
     "name": "stdout",
     "output_type": "stream",
     "text": [
      "              precision    recall  f1-score   support\n",
      "\n",
      "          No       0.81      0.95      0.87       837\n",
      "         Yes       0.72      0.34      0.46       290\n",
      "\n",
      "    accuracy                           0.80      1127\n",
      "   macro avg       0.76      0.65      0.67      1127\n",
      "weighted avg       0.78      0.80      0.77      1127\n",
      "\n"
     ]
    }
   ],
   "source": [
    "# Test the model's performance on the validation set\n",
    "DTv_preds, DTv_probs = model.model_predictor(X_valid, DT_model)\n",
    "DTv_conf, DTv_report = model.model_evaluator(y_valid, DTv_preds)\n",
    "print (DTv_report)"
   ]
  },
  {
   "cell_type": "code",
   "execution_count": 6,
   "metadata": {},
   "outputs": [
    {
     "name": "stdout",
     "output_type": "stream",
     "text": [
      "              precision    recall  f1-score   support\n",
      "\n",
      "          No       0.79      0.94      0.86      1017\n",
      "         Yes       0.69      0.36      0.47       392\n",
      "\n",
      "    accuracy                           0.78      1409\n",
      "   macro avg       0.74      0.65      0.67      1409\n",
      "weighted avg       0.76      0.78      0.75      1409\n",
      "\n"
     ]
    }
   ],
   "source": [
    "# Test the model's performance on the test set\n",
    "DTt_preds, DTt_probs = model.model_predictor(X_test, DT_model)\n",
    "DTt_conf, DTt_report = model.model_evaluator(y_test, DTt_preds)\n",
    "print (DTt_report)"
   ]
  },
  {
   "cell_type": "code",
   "execution_count": 7,
   "metadata": {
    "scrolled": true
   },
   "outputs": [
    {
     "data": {
      "text/html": [
       "<div>\n",
       "<style scoped>\n",
       "    .dataframe tbody tr th:only-of-type {\n",
       "        vertical-align: middle;\n",
       "    }\n",
       "\n",
       "    .dataframe tbody tr th {\n",
       "        vertical-align: top;\n",
       "    }\n",
       "\n",
       "    .dataframe thead th {\n",
       "        text-align: right;\n",
       "    }\n",
       "</style>\n",
       "<table border=\"1\" class=\"dataframe\">\n",
       "  <thead>\n",
       "    <tr style=\"text-align: right;\">\n",
       "      <th></th>\n",
       "      <th>0</th>\n",
       "    </tr>\n",
       "  </thead>\n",
       "  <tbody>\n",
       "    <tr>\n",
       "      <th>0</th>\n",
       "      <td>No</td>\n",
       "    </tr>\n",
       "    <tr>\n",
       "      <th>1</th>\n",
       "      <td>Yes</td>\n",
       "    </tr>\n",
       "    <tr>\n",
       "      <th>2</th>\n",
       "      <td>No</td>\n",
       "    </tr>\n",
       "    <tr>\n",
       "      <th>3</th>\n",
       "      <td>No</td>\n",
       "    </tr>\n",
       "    <tr>\n",
       "      <th>4</th>\n",
       "      <td>Yes</td>\n",
       "    </tr>\n",
       "    <tr>\n",
       "      <th>...</th>\n",
       "      <td>...</td>\n",
       "    </tr>\n",
       "    <tr>\n",
       "      <th>4502</th>\n",
       "      <td>No</td>\n",
       "    </tr>\n",
       "    <tr>\n",
       "      <th>4503</th>\n",
       "      <td>Yes</td>\n",
       "    </tr>\n",
       "    <tr>\n",
       "      <th>4504</th>\n",
       "      <td>No</td>\n",
       "    </tr>\n",
       "    <tr>\n",
       "      <th>4505</th>\n",
       "      <td>No</td>\n",
       "    </tr>\n",
       "    <tr>\n",
       "      <th>4506</th>\n",
       "      <td>Yes</td>\n",
       "    </tr>\n",
       "  </tbody>\n",
       "</table>\n",
       "<p>4507 rows × 1 columns</p>\n",
       "</div>"
      ],
      "text/plain": [
       "        0\n",
       "0      No\n",
       "1     Yes\n",
       "2      No\n",
       "3      No\n",
       "4     Yes\n",
       "...   ...\n",
       "4502   No\n",
       "4503  Yes\n",
       "4504   No\n",
       "4505   No\n",
       "4506  Yes\n",
       "\n",
       "[4507 rows x 1 columns]"
      ]
     },
     "execution_count": 7,
     "metadata": {},
     "output_type": "execute_result"
    }
   ],
   "source": [
    "train_probs = pd.DataFrame(DT_probs)\n",
    "valid_probs = pd.DataFrame(DTv_probs)\n",
    "test_probs = pd.DataFrame(DTt_probs)\n",
    "\n",
    "train_preds = pd.DataFrame(DT_preds)\n",
    "valid_preds = pd.DataFrame(DTv_preds)\n",
    "test_preds = pd.DataFrame(DTt_preds)\n",
    "\n",
    "train_preds"
   ]
  },
  {
   "cell_type": "code",
   "execution_count": 8,
   "metadata": {},
   "outputs": [],
   "source": [
    "train_probs = train_probs.rename(columns={1: 'probabblah'})\n",
    "valid_probs = valid_probs.rename(columns={1: 'probabblah'})\n",
    "test_probs = test_probs.rename(columns={1: 'probabblah'})\n",
    "\n",
    "train_preds = train_preds.rename(columns={0: 'pred'})\n",
    "valid_preds = valid_preds.rename(columns={0: 'pred'})\n",
    "test_preds = test_preds.rename(columns={0: 'pred'})"
   ]
  },
  {
   "cell_type": "code",
   "execution_count": 9,
   "metadata": {},
   "outputs": [],
   "source": [
    "# Produce a .csv with the customer_id, probability of churn, and the prediction of churn (1=churn, 0=not_churn).\n",
    "results_train = pd.DataFrame(train.customer_id)\n",
    "results_valid = pd.DataFrame(valid.customer_id)\n",
    "results_test = pd.DataFrame(test.customer_id)\n",
    "\n",
    "results_train['Probability_churn'] = train_probs['probabblah']\n",
    "results_train['Prediction'] = train_preds['pred']\n",
    "\n",
    "results_valid['Probability_churn'] = valid_probs['probabblah']\n",
    "results_valid['Prediction'] = valid_preds['pred']\n",
    "\n",
    "results_test['Probability_churn'] = test_probs['probabblah']\n",
    "results_test['Prediction'] = test_preds['pred']"
   ]
  },
  {
   "cell_type": "code",
   "execution_count": 10,
   "metadata": {},
   "outputs": [
    {
     "data": {
      "text/html": [
       "<div>\n",
       "<style scoped>\n",
       "    .dataframe tbody tr th:only-of-type {\n",
       "        vertical-align: middle;\n",
       "    }\n",
       "\n",
       "    .dataframe tbody tr th {\n",
       "        vertical-align: top;\n",
       "    }\n",
       "\n",
       "    .dataframe thead th {\n",
       "        text-align: right;\n",
       "    }\n",
       "</style>\n",
       "<table border=\"1\" class=\"dataframe\">\n",
       "  <thead>\n",
       "    <tr style=\"text-align: right;\">\n",
       "      <th></th>\n",
       "      <th>customer_id</th>\n",
       "      <th>Probability_churn</th>\n",
       "      <th>Prediction</th>\n",
       "    </tr>\n",
       "  </thead>\n",
       "  <tbody>\n",
       "    <tr>\n",
       "      <th>0</th>\n",
       "      <td>5044-LRQAQ</td>\n",
       "      <td>0.500</td>\n",
       "      <td>No</td>\n",
       "    </tr>\n",
       "    <tr>\n",
       "      <th>1</th>\n",
       "      <td>2397-BRLOM</td>\n",
       "      <td>0.703</td>\n",
       "      <td>Yes</td>\n",
       "    </tr>\n",
       "    <tr>\n",
       "      <th>2</th>\n",
       "      <td>3932-CMDTD</td>\n",
       "      <td>0.164</td>\n",
       "      <td>No</td>\n",
       "    </tr>\n",
       "    <tr>\n",
       "      <th>3</th>\n",
       "      <td>4990-ALDGW</td>\n",
       "      <td>0.024</td>\n",
       "      <td>No</td>\n",
       "    </tr>\n",
       "    <tr>\n",
       "      <th>4</th>\n",
       "      <td>3422-GALYP</td>\n",
       "      <td>0.703</td>\n",
       "      <td>Yes</td>\n",
       "    </tr>\n",
       "    <tr>\n",
       "      <th>...</th>\n",
       "      <td>...</td>\n",
       "      <td>...</td>\n",
       "      <td>...</td>\n",
       "    </tr>\n",
       "    <tr>\n",
       "      <th>1404</th>\n",
       "      <td>3229-USWAR</td>\n",
       "      <td>0.164</td>\n",
       "      <td>No</td>\n",
       "    </tr>\n",
       "    <tr>\n",
       "      <th>1405</th>\n",
       "      <td>8260-NGFNY</td>\n",
       "      <td>0.593</td>\n",
       "      <td>Yes</td>\n",
       "    </tr>\n",
       "    <tr>\n",
       "      <th>1406</th>\n",
       "      <td>5334-JLAXU</td>\n",
       "      <td>0.239</td>\n",
       "      <td>No</td>\n",
       "    </tr>\n",
       "    <tr>\n",
       "      <th>1407</th>\n",
       "      <td>2674-MIAHT</td>\n",
       "      <td>0.703</td>\n",
       "      <td>Yes</td>\n",
       "    </tr>\n",
       "    <tr>\n",
       "      <th>1408</th>\n",
       "      <td>2452-SNHFZ</td>\n",
       "      <td>0.483</td>\n",
       "      <td>No</td>\n",
       "    </tr>\n",
       "  </tbody>\n",
       "</table>\n",
       "<p>7043 rows × 3 columns</p>\n",
       "</div>"
      ],
      "text/plain": [
       "     customer_id  Probability_churn Prediction\n",
       "0     5044-LRQAQ              0.500         No\n",
       "1     2397-BRLOM              0.703        Yes\n",
       "2     3932-CMDTD              0.164         No\n",
       "3     4990-ALDGW              0.024         No\n",
       "4     3422-GALYP              0.703        Yes\n",
       "...          ...                ...        ...\n",
       "1404  3229-USWAR              0.164         No\n",
       "1405  8260-NGFNY              0.593        Yes\n",
       "1406  5334-JLAXU              0.239         No\n",
       "1407  2674-MIAHT              0.703        Yes\n",
       "1408  2452-SNHFZ              0.483         No\n",
       "\n",
       "[7043 rows x 3 columns]"
      ]
     },
     "execution_count": 10,
     "metadata": {},
     "output_type": "execute_result"
    }
   ],
   "source": [
    "results_train = results_train.append(results_valid)\n",
    "results_train = results_train.append(results_test)\n",
    "results_train"
   ]
  },
  {
   "cell_type": "code",
   "execution_count": 11,
   "metadata": {},
   "outputs": [
    {
     "data": {
      "text/plain": [
       "(4507, 32)"
      ]
     },
     "execution_count": 11,
     "metadata": {},
     "output_type": "execute_result"
    }
   ],
   "source": []
  },
  {
   "cell_type": "code",
   "execution_count": null,
   "metadata": {},
   "outputs": [],
   "source": []
  }
 ],
 "metadata": {
  "kernelspec": {
   "display_name": "Python 3",
   "language": "python",
   "name": "python3"
  },
  "language_info": {
   "codemirror_mode": {
    "name": "ipython",
    "version": 3
   },
   "file_extension": ".py",
   "mimetype": "text/x-python",
   "name": "python",
   "nbconvert_exporter": "python",
   "pygments_lexer": "ipython3",
   "version": "3.7.4"
  }
 },
 "nbformat": 4,
 "nbformat_minor": 4
}
