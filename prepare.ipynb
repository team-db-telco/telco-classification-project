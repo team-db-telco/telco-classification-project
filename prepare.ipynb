{
 "cells": [
  {
   "cell_type": "markdown",
   "metadata": {},
   "source": [
    "# Prepare Stage"
   ]
  },
  {
   "cell_type": "markdown",
   "metadata": {},
   "source": [
    "## Goals for this notebook:\n",
    "\n",
    "    1. Split data\n",
    "    2. Handle missing and nulls\n",
    "    3. Handle outliers\n",
    "    4. Encode variables\n",
    "    5. Scale data\n",
    "    6. Create new features"
   ]
  },
  {
   "cell_type": "code",
   "execution_count": 1,
   "metadata": {},
   "outputs": [],
   "source": [
    "import numpy as np\n",
    "import pandas as pd\n",
    "\n",
    "import warnings\n",
    "warnings.filterwarnings(\"ignore\")\n",
    "\n",
    "import acquire\n",
    "import prepare"
   ]
  },
  {
   "cell_type": "code",
   "execution_count": 2,
   "metadata": {},
   "outputs": [],
   "source": [
    "# Acquire data from acquire.py\n",
    "telco = acquire.get_telco_data()\n",
    "# function to change the types of variables goes here, or hopefully its covered in the acquire file"
   ]
  },
  {
   "cell_type": "code",
   "execution_count": 3,
   "metadata": {},
   "outputs": [
    {
     "data": {
      "text/html": [
       "<div>\n",
       "<style scoped>\n",
       "    .dataframe tbody tr th:only-of-type {\n",
       "        vertical-align: middle;\n",
       "    }\n",
       "\n",
       "    .dataframe tbody tr th {\n",
       "        vertical-align: top;\n",
       "    }\n",
       "\n",
       "    .dataframe thead th {\n",
       "        text-align: right;\n",
       "    }\n",
       "</style>\n",
       "<table border=\"1\" class=\"dataframe\">\n",
       "  <thead>\n",
       "    <tr style=\"text-align: right;\">\n",
       "      <th></th>\n",
       "      <th>contract_type_id</th>\n",
       "      <th>internet_service_type_id</th>\n",
       "      <th>payment_type_id</th>\n",
       "      <th>customer_id</th>\n",
       "      <th>gender</th>\n",
       "      <th>senior_citizen</th>\n",
       "      <th>partner</th>\n",
       "      <th>dependents</th>\n",
       "      <th>tenure</th>\n",
       "      <th>phone_service</th>\n",
       "      <th>...</th>\n",
       "      <th>tech_support</th>\n",
       "      <th>streaming_tv</th>\n",
       "      <th>streaming_movies</th>\n",
       "      <th>paperless_billing</th>\n",
       "      <th>monthly_charges</th>\n",
       "      <th>total_charges</th>\n",
       "      <th>churn</th>\n",
       "      <th>payment_type</th>\n",
       "      <th>internet_service_type</th>\n",
       "      <th>contract_type</th>\n",
       "    </tr>\n",
       "  </thead>\n",
       "  <tbody>\n",
       "    <tr>\n",
       "      <th>0</th>\n",
       "      <td>1</td>\n",
       "      <td>1</td>\n",
       "      <td>2</td>\n",
       "      <td>0003-MKNFE</td>\n",
       "      <td>Male</td>\n",
       "      <td>0</td>\n",
       "      <td>No</td>\n",
       "      <td>No</td>\n",
       "      <td>9</td>\n",
       "      <td>Yes</td>\n",
       "      <td>...</td>\n",
       "      <td>No</td>\n",
       "      <td>No</td>\n",
       "      <td>Yes</td>\n",
       "      <td>No</td>\n",
       "      <td>59.9</td>\n",
       "      <td>542.4</td>\n",
       "      <td>No</td>\n",
       "      <td>Mailed check</td>\n",
       "      <td>DSL</td>\n",
       "      <td>Month-to-month</td>\n",
       "    </tr>\n",
       "    <tr>\n",
       "      <th>1</th>\n",
       "      <td>1</td>\n",
       "      <td>1</td>\n",
       "      <td>4</td>\n",
       "      <td>0013-MHZWF</td>\n",
       "      <td>Female</td>\n",
       "      <td>0</td>\n",
       "      <td>No</td>\n",
       "      <td>Yes</td>\n",
       "      <td>9</td>\n",
       "      <td>Yes</td>\n",
       "      <td>...</td>\n",
       "      <td>Yes</td>\n",
       "      <td>Yes</td>\n",
       "      <td>Yes</td>\n",
       "      <td>Yes</td>\n",
       "      <td>69.4</td>\n",
       "      <td>571.45</td>\n",
       "      <td>No</td>\n",
       "      <td>Credit card (automatic)</td>\n",
       "      <td>DSL</td>\n",
       "      <td>Month-to-month</td>\n",
       "    </tr>\n",
       "    <tr>\n",
       "      <th>2</th>\n",
       "      <td>1</td>\n",
       "      <td>1</td>\n",
       "      <td>1</td>\n",
       "      <td>0015-UOCOJ</td>\n",
       "      <td>Female</td>\n",
       "      <td>1</td>\n",
       "      <td>No</td>\n",
       "      <td>No</td>\n",
       "      <td>7</td>\n",
       "      <td>Yes</td>\n",
       "      <td>...</td>\n",
       "      <td>No</td>\n",
       "      <td>No</td>\n",
       "      <td>No</td>\n",
       "      <td>Yes</td>\n",
       "      <td>48.2</td>\n",
       "      <td>340.35</td>\n",
       "      <td>No</td>\n",
       "      <td>Electronic check</td>\n",
       "      <td>DSL</td>\n",
       "      <td>Month-to-month</td>\n",
       "    </tr>\n",
       "    <tr>\n",
       "      <th>3</th>\n",
       "      <td>1</td>\n",
       "      <td>1</td>\n",
       "      <td>1</td>\n",
       "      <td>0023-HGHWL</td>\n",
       "      <td>Male</td>\n",
       "      <td>1</td>\n",
       "      <td>No</td>\n",
       "      <td>No</td>\n",
       "      <td>1</td>\n",
       "      <td>No</td>\n",
       "      <td>...</td>\n",
       "      <td>No</td>\n",
       "      <td>No</td>\n",
       "      <td>No</td>\n",
       "      <td>Yes</td>\n",
       "      <td>25.1</td>\n",
       "      <td>25.1</td>\n",
       "      <td>Yes</td>\n",
       "      <td>Electronic check</td>\n",
       "      <td>DSL</td>\n",
       "      <td>Month-to-month</td>\n",
       "    </tr>\n",
       "    <tr>\n",
       "      <th>4</th>\n",
       "      <td>1</td>\n",
       "      <td>1</td>\n",
       "      <td>3</td>\n",
       "      <td>0032-PGELS</td>\n",
       "      <td>Female</td>\n",
       "      <td>0</td>\n",
       "      <td>Yes</td>\n",
       "      <td>Yes</td>\n",
       "      <td>1</td>\n",
       "      <td>No</td>\n",
       "      <td>...</td>\n",
       "      <td>No</td>\n",
       "      <td>No</td>\n",
       "      <td>No</td>\n",
       "      <td>No</td>\n",
       "      <td>30.5</td>\n",
       "      <td>30.5</td>\n",
       "      <td>Yes</td>\n",
       "      <td>Bank transfer (automatic)</td>\n",
       "      <td>DSL</td>\n",
       "      <td>Month-to-month</td>\n",
       "    </tr>\n",
       "  </tbody>\n",
       "</table>\n",
       "<p>5 rows × 24 columns</p>\n",
       "</div>"
      ],
      "text/plain": [
       "   contract_type_id  internet_service_type_id  payment_type_id customer_id  \\\n",
       "0                 1                         1                2  0003-MKNFE   \n",
       "1                 1                         1                4  0013-MHZWF   \n",
       "2                 1                         1                1  0015-UOCOJ   \n",
       "3                 1                         1                1  0023-HGHWL   \n",
       "4                 1                         1                3  0032-PGELS   \n",
       "\n",
       "   gender  senior_citizen partner dependents  tenure phone_service  ...  \\\n",
       "0    Male               0      No         No       9           Yes  ...   \n",
       "1  Female               0      No        Yes       9           Yes  ...   \n",
       "2  Female               1      No         No       7           Yes  ...   \n",
       "3    Male               1      No         No       1            No  ...   \n",
       "4  Female               0     Yes        Yes       1            No  ...   \n",
       "\n",
       "  tech_support streaming_tv streaming_movies paperless_billing  \\\n",
       "0           No           No              Yes                No   \n",
       "1          Yes          Yes              Yes               Yes   \n",
       "2           No           No               No               Yes   \n",
       "3           No           No               No               Yes   \n",
       "4           No           No               No                No   \n",
       "\n",
       "  monthly_charges total_charges churn               payment_type  \\\n",
       "0            59.9         542.4    No               Mailed check   \n",
       "1            69.4        571.45    No    Credit card (automatic)   \n",
       "2            48.2        340.35    No           Electronic check   \n",
       "3            25.1          25.1   Yes           Electronic check   \n",
       "4            30.5          30.5   Yes  Bank transfer (automatic)   \n",
       "\n",
       "   internet_service_type   contract_type  \n",
       "0                    DSL  Month-to-month  \n",
       "1                    DSL  Month-to-month  \n",
       "2                    DSL  Month-to-month  \n",
       "3                    DSL  Month-to-month  \n",
       "4                    DSL  Month-to-month  \n",
       "\n",
       "[5 rows x 24 columns]"
      ]
     },
     "execution_count": 3,
     "metadata": {},
     "output_type": "execute_result"
    }
   ],
   "source": [
    "telco.head()"
   ]
  },
  {
   "cell_type": "markdown",
   "metadata": {},
   "source": [
    "### Split data"
   ]
  },
  {
   "cell_type": "code",
   "execution_count": 5,
   "metadata": {},
   "outputs": [],
   "source": [
    "train, test = prepare.split_my_data(telco, 0.8)\n",
    "train, valid = prepare.split_my_data(train, 0.8)"
   ]
  },
  {
   "cell_type": "markdown",
   "metadata": {},
   "source": [
    "### Handle missing and null values"
   ]
  },
  {
   "cell_type": "code",
   "execution_count": null,
   "metadata": {},
   "outputs": [],
   "source": [
    "# The 11 null values from tenure go here, but that also means the total_charges associated with them should be addressed\n",
    "\n"
   ]
  },
  {
   "cell_type": "markdown",
   "metadata": {},
   "source": [
    "### Handle outliers"
   ]
  },
  {
   "cell_type": "code",
   "execution_count": null,
   "metadata": {},
   "outputs": [],
   "source": [
    "# Identify outliers\n",
    "\n"
   ]
  },
  {
   "cell_type": "markdown",
   "metadata": {},
   "source": [
    "### Encode variables"
   ]
  },
  {
   "cell_type": "markdown",
   "metadata": {},
   "source": [
    "> variables with Yes or No will be converted to 1 or 0"
   ]
  },
  {
   "cell_type": "code",
   "execution_count": 6,
   "metadata": {},
   "outputs": [],
   "source": [
    "def boolean_labeler(df, col):\n",
    "    le = preprocessing.LabelEncoder()\n",
    "    df[f'{col}_enc'] = le.fit_transform(df[col])\n",
    "    return df"
   ]
  },
  {
   "cell_type": "code",
   "execution_count": 7,
   "metadata": {},
   "outputs": [],
   "source": [
    "train = prepare.boolean_labeler(train, 'gender')\n",
    "valid = prepare.boolean_labeler(valid, 'gender')\n",
    "test = prepare.boolean_labeler(test, 'gender')"
   ]
  },
  {
   "cell_type": "code",
   "execution_count": 8,
   "metadata": {},
   "outputs": [],
   "source": [
    "# covered by new feature\n",
    "\n",
    "train = prepare.boolean_labeler(train, 'partner')\n",
    "valid = prepare.boolean_labeler(valid, 'partner')\n",
    "test = prepare.boolean_labeler(test, 'partner')"
   ]
  },
  {
   "cell_type": "code",
   "execution_count": 9,
   "metadata": {},
   "outputs": [],
   "source": [
    "# covered by new feature\n",
    "\n",
    "train = prepare.boolean_labeler(train, 'dependents')\n",
    "valid = prepare.boolean_labeler(valid, 'dependents')\n",
    "test = prepare.boolean_labeler(test, 'dependents')"
   ]
  },
  {
   "cell_type": "code",
   "execution_count": 10,
   "metadata": {},
   "outputs": [],
   "source": [
    "# covered by new feature\n",
    "\n",
    "train = prepare.boolean_labeler(train, 'phone_service')\n",
    "valid = prepare.boolean_labeler(valid, 'phone_service')\n",
    "test = prepare.boolean_labeler(test, 'phone_service')"
   ]
  },
  {
   "cell_type": "code",
   "execution_count": 11,
   "metadata": {},
   "outputs": [],
   "source": [
    "train = prepare.boolean_labeler(train, 'paperless_billing')\n",
    "valid = prepare.boolean_labeler(valid, 'paperless_billing')\n",
    "test = prepare.boolean_labeler(test, 'paperless_billing')"
   ]
  },
  {
   "cell_type": "markdown",
   "metadata": {},
   "source": [
    "> Variables with Yes, No and a third option for not applicable: the third option will be converted to a 0 indicating no"
   ]
  },
  {
   "cell_type": "code",
   "execution_count": 12,
   "metadata": {},
   "outputs": [],
   "source": [
    "def more_than_two_labels(df, col):\n",
    "    df[f'{col}_enc'] = np.where(df[col] == 'No', '0',\n",
    "                                np.where(df[col] == 'Yes', '1', '0'))\n",
    "    return df"
   ]
  },
  {
   "cell_type": "code",
   "execution_count": 13,
   "metadata": {},
   "outputs": [],
   "source": [
    "# covered by new feature\n",
    "\n",
    "train = prepare.more_than_two_labels(train, 'multiple_lines')\n",
    "valid = prepare.more_than_two_labels(valid, 'multiple_lines')\n",
    "test = prepare.more_than_two_labels(test, 'multiple_lines')"
   ]
  },
  {
   "cell_type": "code",
   "execution_count": 14,
   "metadata": {},
   "outputs": [],
   "source": [
    "# covered by new feature\n",
    "\n",
    "train = prepare.more_than_two_labels(train, 'online_security')\n",
    "valid = prepare.more_than_two_labels(valid, 'online_security')\n",
    "test = prepare.more_than_two_labels(test, 'online_security')"
   ]
  },
  {
   "cell_type": "code",
   "execution_count": 15,
   "metadata": {},
   "outputs": [],
   "source": [
    "# covered by new feature\n",
    "\n",
    "train = prepare.more_than_two_labels(train, 'online_backup')\n",
    "valid = prepare.more_than_two_labels(valid, 'online_backup')\n",
    "test = prepare.more_than_two_labels(test, 'online_backup')"
   ]
  },
  {
   "cell_type": "code",
   "execution_count": 16,
   "metadata": {},
   "outputs": [],
   "source": [
    "# covered by new feature\n",
    "\n",
    "train = prepare.more_than_two_labels(train, 'device_protection')\n",
    "valid = prepare.more_than_two_labels(valid, 'device_protection')\n",
    "test = prepare.more_than_two_labels(test, 'device_protection')"
   ]
  },
  {
   "cell_type": "code",
   "execution_count": 17,
   "metadata": {},
   "outputs": [],
   "source": [
    "# covered by new feature\n",
    "\n",
    "train = prepare.more_than_two_labels(train, 'tech_support')\n",
    "valid = prepare.more_than_two_labels(valid, 'tech_support')\n",
    "test = prepare.more_than_two_labels(test, 'tech_support')"
   ]
  },
  {
   "cell_type": "code",
   "execution_count": 18,
   "metadata": {},
   "outputs": [],
   "source": [
    "# covered by new feature\n",
    "\n",
    "train = prepare.more_than_two_labels(train, 'streaming_tv')\n",
    "valid = prepare.more_than_two_labels(valid, 'streaming_tv')\n",
    "test = prepare.more_than_two_labels(test, 'streaming_tv')"
   ]
  },
  {
   "cell_type": "code",
   "execution_count": 19,
   "metadata": {},
   "outputs": [],
   "source": [
    "# covered by new feature\n",
    "\n",
    "train = prepare.more_than_two_labels(train, 'streaming_movies')\n",
    "valid = prepare.more_than_two_labels(valid, 'streaming_movies')\n",
    "test = prepare.more_than_two_labels(test, 'streaming_movies')"
   ]
  },
  {
   "cell_type": "markdown",
   "metadata": {},
   "source": [
    "### Scale data"
   ]
  },
  {
   "cell_type": "markdown",
   "metadata": {},
   "source": [
    "> Columns to be scaled: "
   ]
  },
  {
   "cell_type": "code",
   "execution_count": null,
   "metadata": {},
   "outputs": [],
   "source": [
    "# Identify columns to be scaled and decide on a method\n",
    "\n"
   ]
  },
  {
   "cell_type": "markdown",
   "metadata": {},
   "source": [
    "### Create new features"
   ]
  },
  {
   "cell_type": "markdown",
   "metadata": {},
   "source": [
    "#### Tenure converted to years"
   ]
  },
  {
   "cell_type": "code",
   "execution_count": 20,
   "metadata": {},
   "outputs": [],
   "source": [
    "def months_to_years(df, col):\n",
    "    df[f'{col}_months'] = (df[col] / 12).round(2)\n",
    "    return df"
   ]
  },
  {
   "cell_type": "code",
   "execution_count": 21,
   "metadata": {},
   "outputs": [],
   "source": [
    "train = prepare.months_to_years(train, 'tenure')\n",
    "valid = prepare.months_to_years(valid, 'tenure')\n",
    "test = prepare.months_to_years(test, 'tenure')"
   ]
  },
  {
   "cell_type": "markdown",
   "metadata": {},
   "source": [
    "#### Single variable representing the information from phone_service and multiple_lines"
   ]
  },
  {
   "cell_type": "code",
   "execution_count": 22,
   "metadata": {},
   "outputs": [
    {
     "data": {
      "text/plain": [
       "(Yes    6361\n",
       " No      682\n",
       " Name: phone_service, dtype: int64, No                  3390\n",
       " Yes                 2971\n",
       " No phone service     682\n",
       " Name: multiple_lines, dtype: int64)"
      ]
     },
     "execution_count": 22,
     "metadata": {},
     "output_type": "execute_result"
    }
   ],
   "source": [
    "telco.phone_service.value_counts(), telco.multiple_lines.value_counts()"
   ]
  },
  {
   "cell_type": "code",
   "execution_count": 23,
   "metadata": {},
   "outputs": [],
   "source": [
    "# If they have multiple lines, they get a 2, if they only have phone, they get a 1, else 0\n",
    "\n",
    "def extra_lines(df):\n",
    "    df['extra_lines'] = np.where(df['multiple_lines'] == 'Yes', '2',\n",
    "                                np.where(df['multiple_lines'] == 'No', '1', '0'))\n",
    "    return df"
   ]
  },
  {
   "cell_type": "code",
   "execution_count": 24,
   "metadata": {},
   "outputs": [
    {
     "data": {
      "text/plain": [
       "1    3390\n",
       "2    2971\n",
       "0     682\n",
       "Name: extra_lines, dtype: int64"
      ]
     },
     "execution_count": 24,
     "metadata": {},
     "output_type": "execute_result"
    }
   ],
   "source": [
    "telco_test = extra_lines(telco)\n",
    "telco_test.extra_lines.value_counts()"
   ]
  },
  {
   "cell_type": "code",
   "execution_count": 25,
   "metadata": {},
   "outputs": [],
   "source": [
    "train = prepare.extra_lines(train)\n",
    "valid = prepare.extra_lines(valid)\n",
    "test = prepare.extra_lines(test)"
   ]
  },
  {
   "cell_type": "markdown",
   "metadata": {},
   "source": [
    "#### Single variable representing info from dependents and partner"
   ]
  },
  {
   "cell_type": "code",
   "execution_count": 26,
   "metadata": {},
   "outputs": [
    {
     "data": {
      "text/plain": [
       "(No     4933\n",
       " Yes    2110\n",
       " Name: dependents, dtype: int64, No     3641\n",
       " Yes    3402\n",
       " Name: partner, dtype: int64)"
      ]
     },
     "execution_count": 26,
     "metadata": {},
     "output_type": "execute_result"
    }
   ],
   "source": [
    "telco.dependents.value_counts(), telco.partner.value_counts()"
   ]
  },
  {
   "cell_type": "code",
   "execution_count": 27,
   "metadata": {},
   "outputs": [],
   "source": [
    "# If they have neither partner or dependents, they get 0\n",
    "# If they have partner but no dependents, they get 1\n",
    "# If they have partner and dependents, they get 2\n",
    "# If they have only dependents, they get a 3 \n",
    "## --> basically, the higher the score the harder it is for them to support their family\n",
    "\n",
    "def family_support(df):\n",
    "    df['family_support'] = np.where( (df['partner'] == 'No') & (df['dependents'] == 'Yes'), 3,\n",
    "                                    np.where( (df['partner'] == 'Yes') & (df['dependents'] == 'Yes'), 2,\n",
    "                                             np.where( (df['partner'] == 'Yes') & (df['dependents'] == 'No'), 1, 0)))\n",
    "    return df"
   ]
  },
  {
   "cell_type": "code",
   "execution_count": 28,
   "metadata": {},
   "outputs": [
    {
     "data": {
      "text/plain": [
       "0    3280\n",
       "2    1749\n",
       "1    1653\n",
       "3     361\n",
       "Name: family_support, dtype: int64"
      ]
     },
     "execution_count": 28,
     "metadata": {},
     "output_type": "execute_result"
    }
   ],
   "source": [
    "telco_test = family_support(telco)\n",
    "telco_test.family_support.value_counts()"
   ]
  },
  {
   "cell_type": "code",
   "execution_count": 29,
   "metadata": {},
   "outputs": [],
   "source": [
    "train = prepare.family_support(train)\n",
    "valid = prepare.family_support(valid)\n",
    "test = prepare.family_support(test)"
   ]
  },
  {
   "cell_type": "markdown",
   "metadata": {},
   "source": [
    "#### other ways to merge variables, such as streaming_tv & streaming_movies, online_security & online_backup"
   ]
  },
  {
   "cell_type": "markdown",
   "metadata": {},
   "source": [
    "> Add new column indicating whether or not they have internet service, to cover the third option I removed"
   ]
  },
  {
   "cell_type": "code",
   "execution_count": 30,
   "metadata": {},
   "outputs": [
    {
     "data": {
      "text/plain": [
       "(Fiber optic    3096\n",
       " DSL            2421\n",
       " None           1526\n",
       " Name: internet_service_type, dtype: int64, 2    3096\n",
       " 1    2421\n",
       " 3    1526\n",
       " Name: internet_service_type_id, dtype: int64)"
      ]
     },
     "execution_count": 30,
     "metadata": {},
     "output_type": "execute_result"
    }
   ],
   "source": [
    "telco.internet_service_type.value_counts(), telco.internet_service_type_id.value_counts()"
   ]
  },
  {
   "cell_type": "code",
   "execution_count": 31,
   "metadata": {},
   "outputs": [],
   "source": [
    "def has_internet(df):\n",
    "    df['has_internet'] = np.where(df.internet_service_type_id == 3, 0, 1)\n",
    "    return df"
   ]
  },
  {
   "cell_type": "code",
   "execution_count": 32,
   "metadata": {},
   "outputs": [
    {
     "data": {
      "text/plain": [
       "1    5517\n",
       "0    1526\n",
       "Name: has_internet, dtype: int64"
      ]
     },
     "execution_count": 32,
     "metadata": {},
     "output_type": "execute_result"
    }
   ],
   "source": [
    "telco_test = has_internet(telco)\n",
    "telco_test.has_internet.value_counts()"
   ]
  },
  {
   "cell_type": "code",
   "execution_count": 33,
   "metadata": {},
   "outputs": [],
   "source": [
    "train = prepare.has_internet(train)\n",
    "valid = prepare.has_internet(valid)\n",
    "test = prepare.has_internet(test)"
   ]
  },
  {
   "cell_type": "markdown",
   "metadata": {},
   "source": [
    "> Add new column indicating how many internet services the customer has"
   ]
  },
  {
   "cell_type": "code",
   "execution_count": 38,
   "metadata": {},
   "outputs": [],
   "source": [
    "# There are 6 service options\n",
    "# If they have no internet, they get 0\n",
    "# If they have internet but no extra services, they get 1\n",
    "# If they have x extra services, they get 2 - 7\n",
    "\n",
    "def internet_services(df):\n",
    "    df['internet_services'] = (df.has_internet + \n",
    "                               df.online_security_enc + \n",
    "                               df.online_backup_enc + \n",
    "                               df.tech_support_enc + \n",
    "                               df.streaming_tv_enc + \n",
    "                               df.streaming_movies_enc + \n",
    "                               df.device_protection_enc)\n",
    "    return df"
   ]
  },
  {
   "cell_type": "code",
   "execution_count": 39,
   "metadata": {},
   "outputs": [
    {
     "data": {
      "text/plain": [
       "0    1526\n",
       "4    1118\n",
       "3    1033\n",
       "2     966\n",
       "5     852\n",
       "1     693\n",
       "6     571\n",
       "7     284\n",
       "Name: internet_services, dtype: int64"
      ]
     },
     "execution_count": 39,
     "metadata": {},
     "output_type": "execute_result"
    }
   ],
   "source": [
    "telco_test = prepare.more_than_two_labels(telco, 'online_security')\n",
    "telco_test = prepare.more_than_two_labels(telco, 'online_backup')\n",
    "telco_test = prepare.more_than_two_labels(telco, 'tech_support')\n",
    "telco_test = prepare.more_than_two_labels(telco, 'streaming_tv')\n",
    "telco_test = prepare.more_than_two_labels(telco, 'streaming_movies')\n",
    "telco_test = prepare.more_than_two_labels(telco, 'device_protection')\n",
    "\n",
    "telco_test = internet_services(telco)\n",
    "telco_test.internet_services.value_counts()"
   ]
  },
  {
   "cell_type": "code",
   "execution_count": 40,
   "metadata": {},
   "outputs": [],
   "source": [
    "train = prepare.internet_services(train)\n",
    "valid = prepare.internet_services(valid)\n",
    "test = prepare.internet_services(test)"
   ]
  },
  {
   "cell_type": "markdown",
   "metadata": {},
   "source": [
    "> Columns to be dropped from df due to new features and encoded features: "
   ]
  },
  {
   "cell_type": "code",
   "execution_count": 42,
   "metadata": {},
   "outputs": [
    {
     "data": {
      "text/plain": [
       "['contract_type_id',\n",
       " 'internet_service_type_id',\n",
       " 'payment_type_id',\n",
       " 'customer_id',\n",
       " 'gender',\n",
       " 'senior_citizen',\n",
       " 'partner',\n",
       " 'dependents',\n",
       " 'tenure',\n",
       " 'phone_service',\n",
       " 'multiple_lines',\n",
       " 'online_security',\n",
       " 'online_backup',\n",
       " 'device_protection',\n",
       " 'tech_support',\n",
       " 'streaming_tv',\n",
       " 'streaming_movies',\n",
       " 'paperless_billing',\n",
       " 'monthly_charges',\n",
       " 'total_charges',\n",
       " 'churn',\n",
       " 'payment_type',\n",
       " 'internet_service_type',\n",
       " 'contract_type',\n",
       " 'gender_enc',\n",
       " 'partner_enc',\n",
       " 'dependents_enc',\n",
       " 'phone_service_enc',\n",
       " 'paperless_billing_enc',\n",
       " 'multiple_lines_enc',\n",
       " 'online_security_enc',\n",
       " 'online_backup_enc',\n",
       " 'device_protection_enc',\n",
       " 'tech_support_enc',\n",
       " 'streaming_tv_enc',\n",
       " 'streaming_movies_enc',\n",
       " 'tenure_months',\n",
       " 'extra_lines',\n",
       " 'family_support',\n",
       " 'has_internet',\n",
       " 'internet_services']"
      ]
     },
     "execution_count": 42,
     "metadata": {},
     "output_type": "execute_result"
    }
   ],
   "source": [
    "train.columns.tolist()"
   ]
  },
  {
   "cell_type": "code",
   "execution_count": 37,
   "metadata": {},
   "outputs": [],
   "source": [
    "# [['gender', 'partner', 'partner_enc', 'dependents', 'dependents_enc', 'internet_service_type', \n",
    "#  'internet_service_type_id', 'online_security', 'online_security_enc', 'online_backup', \n",
    "#  'online_backup_enc', 'tech_support', 'tech_support_enc', 'streaming_tv', 'streaming_tv_enc',\n",
    "#  'streaming_movies', 'streaming_movies_enc', 'phone_service', 'device_protection', 'device_protection_enc']]"
   ]
  },
  {
   "cell_type": "code",
   "execution_count": null,
   "metadata": {},
   "outputs": [],
   "source": []
  },
  {
   "cell_type": "code",
   "execution_count": null,
   "metadata": {},
   "outputs": [],
   "source": []
  }
 ],
 "metadata": {
  "kernelspec": {
   "display_name": "Python 3",
   "language": "python",
   "name": "python3"
  },
  "language_info": {
   "codemirror_mode": {
    "name": "ipython",
    "version": 3
   },
   "file_extension": ".py",
   "mimetype": "text/x-python",
   "name": "python",
   "nbconvert_exporter": "python",
   "pygments_lexer": "ipython3",
   "version": "3.7.4"
  }
 },
 "nbformat": 4,
 "nbformat_minor": 4
}
